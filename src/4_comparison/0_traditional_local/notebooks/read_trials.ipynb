{
 "cells": [
  {
   "cell_type": "code",
   "execution_count": 28,
   "metadata": {},
   "outputs": [],
   "source": [
    "import numpy as np\n",
    "import pickle as pkl\n",
    "import datetime\n",
    "from hyperopt import Trials\n",
    "\n",
    "trials = pkl.load(open(r'E:\\acocac\\research\\AMZ\\models\\3_comparison\\RF_ssize3000_trials100_trainon200120022003_MCD12Q1v6stable01to03_LCProp2_major\\hpt\\hyperopt_trials_niters100_ssize3000.pkl', 'rb'))"
   ]
  },
  {
   "cell_type": "code",
   "execution_count": 39,
   "metadata": {},
   "outputs": [],
   "source": [
    "STATUS_OK = 'ok'\n",
    "def getBestModelfromTrials(trials, order):\n",
    "    valid_trial_list = [trial for trial in trials\n",
    "                            if STATUS_OK == trial['result']['status']]\n",
    "    losses = [ float(trial['result']['loss']) for trial in valid_trial_list]\n",
    "#     index_having_minumum_loss = np.argmin(losses)\n",
    "    index_having_minumum_sort = np.argsort(losses)\n",
    "    print(index_having_minumum_sort)\n",
    "    index_having_minumum_loss = index_having_minumum_sort[order-1]\n",
    "    print(index_having_minumum_loss)\n",
    "\n",
    "    best_trial_obj = valid_trial_list[index_having_minumum_loss]\n",
    "    return best_trial_obj['misc']['vals']"
   ]
  },
  {
   "cell_type": "code",
   "execution_count": 43,
   "metadata": {},
   "outputs": [
    {
     "name": "stdout",
     "output_type": "stream",
     "text": [
      "[22 69 87 19 21 28 38 97 20 67 63 90 52 56 32 29 96 68 16 91 86 23 25 66\n",
      " 58 74 77 65 30 70  9 79 71 78 33 11 93 76 75 73 44 61 37 50 72 13 41 26\n",
      " 92 82 84 46 57 34 10 54 27 49  1 31 47 98 53 95 40 14 88 81  7 24  2 60\n",
      "  4 35 45 15 43 99  8 55 89 36 42 85 48 80  0 64  3  6 59 83 94 18 12 62\n",
      "  5 17 51 39]\n",
      "22\n"
     ]
    },
    {
     "data": {
      "text/plain": [
       "{'bootstrap': [0],\n",
       " 'classifier_type': [0],\n",
       " 'max_depth': [99.0],\n",
       " 'max_features': [1],\n",
       " 'min_samples_leaf': [4.0],\n",
       " 'min_samples_split': [10.0],\n",
       " 'n_estimators': [750.0]}"
      ]
     },
     "execution_count": 43,
     "metadata": {},
     "output_type": "execute_result"
    }
   ],
   "source": [
    "a = getBestModelfromTrials(trials.trials, 1)\n",
    "a"
   ]
  },
  {
   "cell_type": "code",
   "execution_count": 32,
   "metadata": {},
   "outputs": [
    {
     "name": "stdout",
     "output_type": "stream",
     "text": [
      "22\n",
      "[22 69 87 19 21 28 38 97 20 67 63 90 52 56 32 29 96 68 16 91 86 23 25 66\n",
      " 58 74 77 65 30 70  9 79 71 78 33 11 93 76 75 73 44 61 37 50 72 13 41 26\n",
      " 92 82 84 46 57 34 10 54 27 49  1 31 47 98 53 95 40 14 88 81  7 24  2 60\n",
      "  4 35 45 15 43 99  8 55 89 36 42 85 48 80  0 64  3  6 59 83 94 18 12 62\n",
      "  5 17 51 39]\n",
      "-0.7649063537221431\n"
     ]
    },
    {
     "data": {
      "text/plain": [
       "{'bootstrap': [0],\n",
       " 'classifier_type': [0],\n",
       " 'max_depth': [99.0],\n",
       " 'max_features': [1],\n",
       " 'min_samples_leaf': [4.0],\n",
       " 'min_samples_split': [10.0],\n",
       " 'n_estimators': [750.0]}"
      ]
     },
     "execution_count": 32,
     "metadata": {},
     "output_type": "execute_result"
    }
   ],
   "source": [
    "a = getBestModelfromTrials(trials.trials)\n",
    "a"
   ]
  },
  {
   "cell_type": "code",
   "execution_count": 38,
   "metadata": {},
   "outputs": [
    {
     "name": "stdout",
     "output_type": "stream",
     "text": [
      "p\n"
     ]
    }
   ],
   "source": [
    "if a['bootstrap'][0] == 0:\n",
    "    print('p')\n"
   ]
  },
  {
   "cell_type": "code",
   "execution_count": 18,
   "metadata": {},
   "outputs": [
    {
     "data": {
      "text/plain": [
       "{'bootstrap': [0],\n",
       " 'max_depth': [11.0],\n",
       " 'max_features': [1],\n",
       " 'min_samples_leaf': [2.0],\n",
       " 'min_samples_split': [2.0],\n",
       " 'n_estimators': [1230.0]}"
      ]
     },
     "execution_count": 18,
     "metadata": {},
     "output_type": "execute_result"
    }
   ],
   "source": [
    "a"
   ]
  },
  {
   "cell_type": "code",
   "execution_count": 13,
   "metadata": {},
   "outputs": [
    {
     "data": {
      "text/plain": [
       "array([[2, 2],\n",
       "       [2, 2],\n",
       "       [2, 2],\n",
       "       [2, 2],\n",
       "       [2, 2],\n",
       "       [2, 2],\n",
       "       [2, 2]])"
      ]
     },
     "execution_count": 13,
     "metadata": {},
     "output_type": "execute_result"
    }
   ],
   "source": [
    "import numpy as np\n",
    "np.repeat(np.array([[1,2],[2,2]]),[2,5],axis=0)"
   ]
  }
 ],
 "metadata": {
  "kernelspec": {
   "display_name": "Python [conda env:py36]",
   "language": "python",
   "name": "conda-env-py36-py"
  },
  "language_info": {
   "codemirror_mode": {
    "name": "ipython",
    "version": 3
   },
   "file_extension": ".py",
   "mimetype": "text/x-python",
   "name": "python",
   "nbconvert_exporter": "python",
   "pygments_lexer": "ipython3",
   "version": "3.6.7"
  }
 },
 "nbformat": 4,
 "nbformat_minor": 2
}
