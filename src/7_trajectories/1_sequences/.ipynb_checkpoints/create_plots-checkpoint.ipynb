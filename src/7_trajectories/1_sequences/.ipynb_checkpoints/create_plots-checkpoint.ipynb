{
 "cells": [
  {
   "cell_type": "code",
   "execution_count": 2,
   "metadata": {},
   "outputs": [],
   "source": [
    "import matplotlib.pyplot as plt\n",
    "import matplotlib.image as mpimg\n",
    "from matplotlib import gridspec\n",
    "import os\n",
    "import numpy as np"
   ]
  },
  {
   "cell_type": "code",
   "execution_count": 5,
   "metadata": {},
   "outputs": [],
   "source": [
    "train = '15'\n",
    "ckp = '42497'\n",
    "# tiles = ['tile_0_201', 'tile_0_143', 'tile_1_463', 'tile_1_438', 'tile_0_630', 'tile_1_713']\n",
    "tiles = ['tile_0_201']\n",
    "epoch = '30'\n",
    "# datasets = ['mapbiomas','Copernicusnew_cf2others', 'Copernicusraw', 'merge_datasets2own', 'MCD12Q1v6raw_LCType1', 'MCD12Q1v6raw_LCProp1', 'MCD12Q1v6raw_LCProp2', 'ESAraw']\n",
    "datasets = ['MCD12Q1v6raw_LCType1']\n",
    "defyear = 2007"
   ]
  },
  {
   "cell_type": "code",
   "execution_count": 6,
   "metadata": {},
   "outputs": [
    {
     "ename": "FileNotFoundError",
     "evalue": "[Errno 2] No such file or directory: 'E:\\\\acocac\\\\research\\\\tile_0_201\\\\post\\\\pngs\\\\map_aoi_tile_0_201.png'",
     "traceback": [
      "\u001b[1;31m---------------------------------------------------------------------------\u001b[0m",
      "\u001b[1;31mFileNotFoundError\u001b[0m                         Traceback (most recent call last)",
      "\u001b[1;32m<ipython-input-6-062775eba786>\u001b[0m in \u001b[0;36m<module>\u001b[1;34m()\u001b[0m\n\u001b[0;32m      9\u001b[0m     \u001b[1;32mfor\u001b[0m \u001b[0mdataset\u001b[0m \u001b[1;32min\u001b[0m \u001b[0mdatasets\u001b[0m\u001b[1;33m:\u001b[0m\u001b[1;33m\u001b[0m\u001b[0m\n\u001b[0;32m     10\u001b[0m \u001b[1;33m\u001b[0m\u001b[0m\n\u001b[1;32m---> 11\u001b[1;33m         \u001b[0maoi\u001b[0m \u001b[1;33m=\u001b[0m \u001b[0mmpimg\u001b[0m\u001b[1;33m.\u001b[0m\u001b[0mimread\u001b[0m\u001b[1;33m(\u001b[0m\u001b[0mos\u001b[0m\u001b[1;33m.\u001b[0m\u001b[0mpath\u001b[0m\u001b[1;33m.\u001b[0m\u001b[0mjoin\u001b[0m\u001b[1;33m(\u001b[0m\u001b[0mindir\u001b[0m\u001b[1;33m,\u001b[0m\u001b[1;34m'map_aoi_'\u001b[0m \u001b[1;33m+\u001b[0m \u001b[0mtile\u001b[0m \u001b[1;33m+\u001b[0m \u001b[1;34m'.png'\u001b[0m\u001b[1;33m)\u001b[0m\u001b[1;33m)\u001b[0m\u001b[1;33m\u001b[0m\u001b[0m\n\u001b[0m\u001b[0;32m     12\u001b[0m \u001b[1;33m\u001b[0m\u001b[0m\n\u001b[0;32m     13\u001b[0m         \u001b[1;32mif\u001b[0m \u001b[0mdataset\u001b[0m \u001b[1;33m!=\u001b[0m \u001b[1;34m'mapbiomas'\u001b[0m\u001b[1;33m:\u001b[0m\u001b[1;33m\u001b[0m\u001b[0m\n",
      "\u001b[1;32m~\\AppData\\Local\\Continuum\\anaconda2\\envs\\py36\\lib\\site-packages\\matplotlib\\image.py\u001b[0m in \u001b[0;36mimread\u001b[1;34m(fname, format)\u001b[0m\n\u001b[0;32m   1372\u001b[0m             \u001b[1;32mreturn\u001b[0m \u001b[0mhandler\u001b[0m\u001b[1;33m(\u001b[0m\u001b[0mfd\u001b[0m\u001b[1;33m)\u001b[0m\u001b[1;33m\u001b[0m\u001b[0m\n\u001b[0;32m   1373\u001b[0m         \u001b[1;32melse\u001b[0m\u001b[1;33m:\u001b[0m\u001b[1;33m\u001b[0m\u001b[0m\n\u001b[1;32m-> 1374\u001b[1;33m             \u001b[1;32mwith\u001b[0m \u001b[0mopen\u001b[0m\u001b[1;33m(\u001b[0m\u001b[0mfname\u001b[0m\u001b[1;33m,\u001b[0m \u001b[1;34m'rb'\u001b[0m\u001b[1;33m)\u001b[0m \u001b[1;32mas\u001b[0m \u001b[0mfd\u001b[0m\u001b[1;33m:\u001b[0m\u001b[1;33m\u001b[0m\u001b[0m\n\u001b[0m\u001b[0;32m   1375\u001b[0m                 \u001b[1;32mreturn\u001b[0m \u001b[0mhandler\u001b[0m\u001b[1;33m(\u001b[0m\u001b[0mfd\u001b[0m\u001b[1;33m)\u001b[0m\u001b[1;33m\u001b[0m\u001b[0m\n\u001b[0;32m   1376\u001b[0m     \u001b[1;32melse\u001b[0m\u001b[1;33m:\u001b[0m\u001b[1;33m\u001b[0m\u001b[0m\n",
      "\u001b[1;31mFileNotFoundError\u001b[0m: [Errno 2] No such file or directory: 'E:\\\\acocac\\\\research\\\\tile_0_201\\\\post\\\\pngs\\\\map_aoi_tile_0_201.png'"
     ],
     "output_type": "error"
    }
   ],
   "source": [
    "for tile in tiles:\n",
    "    indir = os.path.join(r'E:\\acocac\\research',tile,'post\\pngs')\n",
    "    \n",
    "    outdir = os.path.join(r'E:\\acocac\\research',tile,'post','thesis')\n",
    "\n",
    "    if not os.path.exists(outdir):\n",
    "        os.makedirs(outdir)\n",
    "    \n",
    "    for dataset in datasets:\n",
    "\n",
    "        aoi = mpimg.imread(os.path.join(indir,'map_aoi_' + tile + '.png')) \n",
    "\n",
    "        if dataset != 'mapbiomas':\n",
    "            suffix = 'convgru64_' + train + '_fold0_' + dataset + '_' + ckp\n",
    "            pre = mpimg.imread(os.path.join(indir,'map_preHMM_convgru64_' + train + '_fold0_' + dataset + '_' + ckp + '.png'))\n",
    "            post = mpimg.imread(os.path.join(indir,'map_postHMM_convgru64_' + train + '_fold0_' + dataset + '_' + ckp + '.png')) \n",
    "            seqoutputs = mpimg.imread(os.path.join(indir,'seqoutputs_' + suffix + '_prediction_def' + str(defyear) + '.png')) \n",
    "            legend = mpimg.imread(os.path.join(indir,'legend_' + suffix + '.png'))\n",
    "            terrai = mpimg.imread(os.path.join(indir,'map_terrai_' + suffix + '.png')) \n",
    "\n",
    "            if 500 <= legend.shape[1] <= 1200:\n",
    "                hspace_legend = 0.01\n",
    "            elif 1200 <= legend.shape[1] <= 2000:\n",
    "                hspace_legend = 0.05  \n",
    "            elif 2000 <= legend.shape[1] <= 2200:\n",
    "                hspace_legend = 0.08\n",
    "            elif 2200 <= legend.shape[1] <= 2500:\n",
    "                hspace_legend = 0.1\n",
    "            elif legend.shape[1] > 2500:\n",
    "                hspace_legend = 0.07\n",
    "\n",
    "            gs0 = gridspec.GridSpec(7, 2,  hspace=0.1, wspace=0, width_ratios = [0.2, 1.2], height_ratios = [0.4, hspace_legend,1,1,0.01,0.56, 1.6])\n",
    "            arrays_l1 = [aoi,legend,pre,post,None,terrai, seqoutputs]\n",
    "\n",
    "            fig = plt.figure(figsize=(16, 22), constrained_layout=False)\n",
    "            title_plot = \"Analysis over 2004-2014 Terra-i's deforested areas using 2001-2018 smoothed LC maps\"\n",
    "            idx_text=4\n",
    "\n",
    "        else:\n",
    "            suffix = 'mapbiomas'\n",
    "            gt = mpimg.imread(os.path.join(indir,'map_' + suffix + '.png')) \n",
    "            seqoutputs = mpimg.imread(os.path.join(indir,'seqoutputs_' + suffix + '.png')) \n",
    "            legend = mpimg.imread(os.path.join(indir,'legend_' + suffix + '.png'))\n",
    "            terrai = mpimg.imread(os.path.join(indir,'map_terrai_' + suffix + '.png')) \n",
    "\n",
    "            gs0 = gridspec.GridSpec(6, 2,  hspace=0.1, wspace=0, width_ratios = [0.2, 1.2], height_ratios = [0.4, hspace_legend,1,0.01,0.56, 1.6])\n",
    "            arrays_l1 = [aoi,legend,gt,None,terrai, seqoutputs]\n",
    "\n",
    "            hspace_legend = 0.05  \n",
    "\n",
    "            fig = plt.figure(figsize=(16, 17), constrained_layout=False)\n",
    "            title_plot = \"Analysis over 2004-2014 Terra-i's deforested areas using 2001-2017 Mapbiomas LC maps\"\n",
    "            idx_text=3\n",
    "\n",
    "        for i, arr in enumerate(arrays_l1):\n",
    "            if i == 0:\n",
    "                ax00 = fig.add_subplot(gs0[0, 0])\n",
    "            elif i == 1:\n",
    "                ax00 = fig.add_subplot(gs0[0, 1])\n",
    "            else:\n",
    "                ax00 = fig.add_subplot(gs0[i, :])\n",
    "            if not i == idx_text:\n",
    "                ax00.imshow(arr)\n",
    "            else:\n",
    "                ax00.text(0.5,1, title_plot, size='x-large', fontweight='bold',ha=\"center\")\n",
    "            ax00.axis('off')\n",
    "\n",
    "        fig.savefig(os.path.join(outdir,tile + '_' + dataset + '.png'), bbox_inches='tight',pad_inches = 0, dpi=150)\n",
    "        plt.close()\n",
    "\n",
    "        del legend"
   ]
  },
  {
   "cell_type": "code",
   "execution_count": 82,
   "metadata": {},
   "outputs": [],
   "source": [
    "train = '15'\n",
    "ckp = '42497'\n",
    "tile = 'tile_0_630'\n",
    "epoch = '30'\n",
    "datasets = ['Copernicusnew_cf2others', 'Copernicusraw', 'merge_datasets2own', 'MCD12Q1v6raw_LCType1', 'MCD12Q1v6raw_LCProp1', 'MCD12Q1v6raw_LCProp2', 'ESAraw']\n",
    "# datasets = ['ESAraw']\n",
    "indir = os.path.join(r'E:\\acocac\\research',tile,'post\\pngs')"
   ]
  },
  {
   "cell_type": "code",
   "execution_count": 83,
   "metadata": {},
   "outputs": [
    {
     "ename": "FileNotFoundError",
     "evalue": "[Errno 2] No such file or directory: 'E:\\\\acocac\\\\research\\\\tile_0_630\\\\post\\\\pngs\\\\seqcommon_convgru64_15_fold0_Copernicusnew_cf2others_42497_prediction.png'",
     "traceback": [
      "\u001b[1;31m------------------------------------------------------------------------\u001b[0m",
      "\u001b[1;31mFileNotFoundError\u001b[0m                      Traceback (most recent call last)",
      "\u001b[1;32m<ipython-input-83-e594ec6505e2>\u001b[0m in \u001b[0;36m<module>\u001b[1;34m()\u001b[0m\n\u001b[0;32m      5\u001b[0m     \u001b[0mpost\u001b[0m \u001b[1;33m=\u001b[0m \u001b[0mmpimg\u001b[0m\u001b[1;33m.\u001b[0m\u001b[0mimread\u001b[0m\u001b[1;33m(\u001b[0m\u001b[0mos\u001b[0m\u001b[1;33m.\u001b[0m\u001b[0mpath\u001b[0m\u001b[1;33m.\u001b[0m\u001b[0mjoin\u001b[0m\u001b[1;33m(\u001b[0m\u001b[0mindir\u001b[0m\u001b[1;33m,\u001b[0m\u001b[1;34m'map_postHMM_convgru64_'\u001b[0m \u001b[1;33m+\u001b[0m \u001b[0mtrain\u001b[0m \u001b[1;33m+\u001b[0m \u001b[1;34m'_fold0_'\u001b[0m \u001b[1;33m+\u001b[0m \u001b[0mdataset\u001b[0m \u001b[1;33m+\u001b[0m \u001b[1;34m'_'\u001b[0m \u001b[1;33m+\u001b[0m \u001b[0mckp\u001b[0m \u001b[1;33m+\u001b[0m \u001b[1;34m'.png'\u001b[0m\u001b[1;33m)\u001b[0m\u001b[1;33m)\u001b[0m\u001b[1;33m\u001b[0m\u001b[0m\n\u001b[0;32m      6\u001b[0m     \u001b[0mterrai\u001b[0m \u001b[1;33m=\u001b[0m \u001b[0mmpimg\u001b[0m\u001b[1;33m.\u001b[0m\u001b[0mimread\u001b[0m\u001b[1;33m(\u001b[0m\u001b[0mos\u001b[0m\u001b[1;33m.\u001b[0m\u001b[0mpath\u001b[0m\u001b[1;33m.\u001b[0m\u001b[0mjoin\u001b[0m\u001b[1;33m(\u001b[0m\u001b[0mindir\u001b[0m\u001b[1;33m,\u001b[0m\u001b[1;34m'map_terrai_convgru64_'\u001b[0m \u001b[1;33m+\u001b[0m \u001b[0mtrain\u001b[0m \u001b[1;33m+\u001b[0m \u001b[1;34m'_fold0_'\u001b[0m \u001b[1;33m+\u001b[0m \u001b[0mdataset\u001b[0m \u001b[1;33m+\u001b[0m \u001b[1;34m'_'\u001b[0m \u001b[1;33m+\u001b[0m \u001b[0mckp\u001b[0m \u001b[1;33m+\u001b[0m \u001b[1;34m'.png'\u001b[0m\u001b[1;33m)\u001b[0m\u001b[1;33m)\u001b[0m\u001b[1;33m\u001b[0m\u001b[0m\n\u001b[1;32m----> 7\u001b[1;33m     \u001b[0mlcdist\u001b[0m \u001b[1;33m=\u001b[0m \u001b[0mmpimg\u001b[0m\u001b[1;33m.\u001b[0m\u001b[0mimread\u001b[0m\u001b[1;33m(\u001b[0m\u001b[0mos\u001b[0m\u001b[1;33m.\u001b[0m\u001b[0mpath\u001b[0m\u001b[1;33m.\u001b[0m\u001b[0mjoin\u001b[0m\u001b[1;33m(\u001b[0m\u001b[0mindir\u001b[0m\u001b[1;33m,\u001b[0m\u001b[1;34m'seqcommon_convgru64_'\u001b[0m \u001b[1;33m+\u001b[0m \u001b[0mtrain\u001b[0m \u001b[1;33m+\u001b[0m \u001b[1;34m'_fold0_'\u001b[0m \u001b[1;33m+\u001b[0m \u001b[0mdataset\u001b[0m \u001b[1;33m+\u001b[0m \u001b[1;34m'_'\u001b[0m \u001b[1;33m+\u001b[0m \u001b[0mckp\u001b[0m \u001b[1;33m+\u001b[0m \u001b[1;34m'_prediction.png'\u001b[0m\u001b[1;33m)\u001b[0m\u001b[1;33m)\u001b[0m\u001b[1;33m\u001b[0m\u001b[0m\n\u001b[0m\u001b[0;32m      8\u001b[0m     \u001b[0mfrequentseq\u001b[0m \u001b[1;33m=\u001b[0m \u001b[0mmpimg\u001b[0m\u001b[1;33m.\u001b[0m\u001b[0mimread\u001b[0m\u001b[1;33m(\u001b[0m\u001b[0mos\u001b[0m\u001b[1;33m.\u001b[0m\u001b[0mpath\u001b[0m\u001b[1;33m.\u001b[0m\u001b[0mjoin\u001b[0m\u001b[1;33m(\u001b[0m\u001b[0mindir\u001b[0m\u001b[1;33m,\u001b[0m\u001b[1;34m'seqdistribution_convgru64_'\u001b[0m \u001b[1;33m+\u001b[0m \u001b[0mtrain\u001b[0m \u001b[1;33m+\u001b[0m \u001b[1;34m'_fold0_'\u001b[0m \u001b[1;33m+\u001b[0m \u001b[0mdataset\u001b[0m \u001b[1;33m+\u001b[0m \u001b[1;34m'_'\u001b[0m \u001b[1;33m+\u001b[0m \u001b[0mckp\u001b[0m \u001b[1;33m+\u001b[0m \u001b[1;34m'_prediction.png'\u001b[0m\u001b[1;33m)\u001b[0m\u001b[1;33m)\u001b[0m\u001b[1;33m\u001b[0m\u001b[0m\n\u001b[0;32m      9\u001b[0m \u001b[1;33m\u001b[0m\u001b[0m\n",
      "\u001b[1;32m~\\AppData\\Local\\Continuum\\anaconda2\\envs\\py36\\lib\\site-packages\\matplotlib\\image.py\u001b[0m in \u001b[0;36mimread\u001b[1;34m(fname, format)\u001b[0m\n\u001b[0;32m   1372\u001b[0m             \u001b[1;32mreturn\u001b[0m \u001b[0mhandler\u001b[0m\u001b[1;33m(\u001b[0m\u001b[0mfd\u001b[0m\u001b[1;33m)\u001b[0m\u001b[1;33m\u001b[0m\u001b[0m\n\u001b[0;32m   1373\u001b[0m         \u001b[1;32melse\u001b[0m\u001b[1;33m:\u001b[0m\u001b[1;33m\u001b[0m\u001b[0m\n\u001b[1;32m-> 1374\u001b[1;33m             \u001b[1;32mwith\u001b[0m \u001b[0mopen\u001b[0m\u001b[1;33m(\u001b[0m\u001b[0mfname\u001b[0m\u001b[1;33m,\u001b[0m \u001b[1;34m'rb'\u001b[0m\u001b[1;33m)\u001b[0m \u001b[1;32mas\u001b[0m \u001b[0mfd\u001b[0m\u001b[1;33m:\u001b[0m\u001b[1;33m\u001b[0m\u001b[0m\n\u001b[0m\u001b[0;32m   1375\u001b[0m                 \u001b[1;32mreturn\u001b[0m \u001b[0mhandler\u001b[0m\u001b[1;33m(\u001b[0m\u001b[0mfd\u001b[0m\u001b[1;33m)\u001b[0m\u001b[1;33m\u001b[0m\u001b[0m\n\u001b[0;32m   1376\u001b[0m     \u001b[1;32melse\u001b[0m\u001b[1;33m:\u001b[0m\u001b[1;33m\u001b[0m\u001b[0m\n",
      "\u001b[1;31mFileNotFoundError\u001b[0m: [Errno 2] No such file or directory: 'E:\\\\acocac\\\\research\\\\tile_0_630\\\\post\\\\pngs\\\\seqcommon_convgru64_15_fold0_Copernicusnew_cf2others_42497_prediction.png'"
     ],
     "output_type": "error"
    }
   ],
   "source": [
    "for dataset in datasets:\n",
    "    \n",
    "    legend = mpimg.imread(os.path.join(indir,'legend_convgru64_' + train + '_fold0_' + dataset + '_' + ckp + '.png'))\n",
    "    pre = mpimg.imread(os.path.join(indir,'map_preHMM_convgru64_' + train + '_fold0_' + dataset + '_' + ckp + '.png'))\n",
    "    post = mpimg.imread(os.path.join(indir,'map_postHMM_convgru64_' + train + '_fold0_' + dataset + '_' + ckp + '.png')) \n",
    "    terrai = mpimg.imread(os.path.join(indir,'map_terrai_convgru64_' + train + '_fold0_' + dataset + '_' + ckp + '.png')) \n",
    "    lcdist = mpimg.imread(os.path.join(indir,'seqcommon_convgru64_' + train + '_fold0_' + dataset + '_' + ckp + '_prediction.png')) \n",
    "    frequentseq = mpimg.imread(os.path.join(indir,'seqdistribution_convgru64_' + train + '_fold0_' + dataset + '_' + ckp + '_prediction.png')) \n",
    "\n",
    "    fig = plt.figure(figsize=(16, 18), constrained_layout=False)\n",
    "\n",
    "    # fig.subplots_adjust(hspace=.1, wspace=.001)\n",
    "    \n",
    "    if 500 <= legend.shape[1] <= 1200:\n",
    "        hspace_legend = 0.3\n",
    "    elif 1200 <= legend.shape[1] <= 2000:\n",
    "        hspace_legend = 0.25    \n",
    "    elif 2000 <= legend.shape[1] <= 2200:\n",
    "        hspace_legend = 0.28     \n",
    "    elif 2200 <= legend.shape[1] <= 2500:\n",
    "        hspace_legend = 0.3\n",
    "    elif legend.shape[1] > 2500:\n",
    "        hspace_legend = 0.2\n",
    "\n",
    "    gs0 = gridspec.GridSpec(2, 1,  height_ratios=[2, 0.8], wspace=0.02,  hspace=0.1)\n",
    "    gs00 = gridspec.GridSpecFromSubplotSpec(5, 1, subplot_spec=gs0[0], wspace=0, height_ratios = [hspace_legend,1,1,0.01,0.56])\n",
    "    gs01 = gridspec.GridSpecFromSubplotSpec(1, 2, subplot_spec=gs0[1], wspace=0,  hspace=0)\n",
    "\n",
    "    arrays_l1 = [legend,pre,post,None,terrai]\n",
    "    arrays_l2 = [frequentseq, lcdist]\n",
    "\n",
    "    for i, arr in enumerate(arrays_l1):\n",
    "        ax00 = fig.add_subplot(gs00[i, 0])\n",
    "        if not i == 3:\n",
    "            ax00.imshow(arr)\n",
    "        else:\n",
    "            ax00.text(0.5,1, \"Analysis over 2004-2014 Terra-i's deforested areas using 2001-2018 smoothed LC maps\", size='x-large', fontweight='bold',ha=\"center\")\n",
    "        ax00.axis('off')\n",
    "\n",
    "    for i, arr in enumerate(arrays_l2):\n",
    "        ax01 = fig.add_subplot(gs01[0, i])\n",
    "        ax01.imshow(arr)  \n",
    "        ax01.axis('off')\n",
    "    \n",
    "    fig.savefig(os.path.join(outdir,tile + '_' + dataset + '.png'), bbox_inches='tight',pad_inches = 0, dpi=150)"
   ]
  }
 ],
 "metadata": {
  "kernelspec": {
   "display_name": "Python [conda env:py36]",
   "language": "python",
   "name": "conda-env-py36-py"
  },
  "language_info": {
   "codemirror_mode": {
    "name": "ipython",
    "version": 3
   },
   "file_extension": ".py",
   "mimetype": "text/x-python",
   "name": "python",
   "nbconvert_exporter": "python",
   "pygments_lexer": "ipython3",
   "version": "3.6.7"
  }
 },
 "nbformat": 4,
 "nbformat_minor": 2
}
