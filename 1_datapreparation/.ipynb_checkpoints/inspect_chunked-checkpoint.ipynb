{
 "cells": [
  {
   "cell_type": "code",
   "execution_count": 1,
   "metadata": {
    "collapsed": true
   },
   "outputs": [],
   "source": [
    "import tensorflow as tf"
   ]
  },
  {
   "cell_type": "code",
   "execution_count": 2,
   "metadata": {
    "collapsed": true
   },
   "outputs": [],
   "source": [
    "import glob, os"
   ]
  },
  {
   "cell_type": "code",
   "execution_count": 3,
   "metadata": {
    "collapsed": true
   },
   "outputs": [],
   "source": [
    "class MODparser():\n",
    "    \"\"\" defined the  .tfrecord format \"\"\"\n",
    "    def __init__(self):\n",
    "\n",
    "        self.feature_format= {\n",
    "            'x250/data': tf.FixedLenFeature([], tf.string),\n",
    "            'x250/shape': tf.FixedLenFeature([4], tf.int64),\n",
    "            'x500/data': tf.FixedLenFeature([], tf.string),\n",
    "            'x500/shape': tf.FixedLenFeature([4], tf.int64),\n",
    "            'dates/doy': tf.FixedLenFeature([], tf.string),\n",
    "            'dates/year': tf.FixedLenFeature([], tf.string),\n",
    "            'dates/shape': tf.FixedLenFeature([1], tf.int64),\n",
    "            'labels/data': tf.FixedLenFeature([], tf.string),\n",
    "            'labels/shape': tf.FixedLenFeature([3], tf.int64)\n",
    "        }\n",
    "\n",
    "        return None\n",
    "        \n",
    "    def parse_example(self,serialized_example):\n",
    "        \"\"\"\n",
    "        example proto can be obtained via\n",
    "        filename_queue = tf.train.string_input_producer(filenames, num_epochs=None)\n",
    "        or by passing this function in dataset.map(.)\n",
    "        \"\"\"\n",
    "\n",
    "        feature = tf.parse_single_example(serialized_example, self.feature_format)\n",
    "        \n",
    "        # decode and reshape\n",
    "        x250 = tf.reshape(tf.decode_raw(feature['x250/data'], tf.int64),tf.cast(feature['x250/shape'], tf.int32))\n",
    "        x500 = tf.reshape(tf.decode_raw(feature['x500/data'], tf.int64),tf.cast(feature['x500/shape'], tf.int32))\n",
    "\n",
    "        doy = tf.reshape(tf.decode_raw(feature['dates/doy'], tf.int64), tf.cast(feature['dates/shape'], tf.int32))\n",
    "        year = tf.reshape(tf.decode_raw(feature['dates/year'], tf.int64), tf.cast(feature['dates/shape'], tf.int32))\n",
    "\n",
    "        labels = tf.reshape(tf.decode_raw(feature['labels/data'], tf.int64), tf.cast(feature['labels/shape'], tf.int32))\n",
    "\n",
    "        return x250, x500, doy, year, labels\n",
    "      \n",
    "    def read(self,filenames):\n",
    "        \"\"\" depricated! \"\"\"\n",
    "\n",
    "        if isinstance(filenames,list):\n",
    "            filename_queue = tf.train.string_input_producer(filenames, num_epochs=None)\n",
    "        elif isinstance(filenames,tf.FIFOQueue):\n",
    "            filename_queue = filenames\n",
    "        else:\n",
    "            print (\"please insert either list or tf.FIFOQueue\")\n",
    "\n",
    "        reader = tf.TFRecordReader(options=tf.python_io.TFRecordOptions(\n",
    "            compression_type=tf.python_io.TFRecordCompressionType.GZIP))\n",
    "        \n",
    "        f, serialized_example = reader.read(filename_queue)\n",
    "\n",
    "        feature = tf.parse_single_example(serialized_example, features=self.feature_format)\n",
    "\n",
    "        # decode and reshape\n",
    "        x250 = tf.reshape(tf.decode_raw(feature['x250/data'], tf.int64),tf.cast(feature['x250/shape'], tf.int32))\n",
    "        x500 = tf.reshape(tf.decode_raw(feature['x500/data'], tf.int64),tf.cast(feature['x500/shape'], tf.int32))\n",
    "        \n",
    "        doy = tf.reshape(tf.decode_raw(feature['dates/doy'], tf.int64), tf.cast(feature['dates/shape'], tf.int32))\n",
    "        year = tf.reshape(tf.decode_raw(feature['dates/year'], tf.int64), tf.cast(feature['dates/shape'], tf.int32))\n",
    "\n",
    "        labels = tf.reshape(tf.decode_raw(feature['labels/data'], tf.int64), tf.cast(feature['labels/shape'], tf.int32))\n",
    "\n",
    "        return x250, x500, doy, year, labels\n",
    "\n",
    "    def read_and_return(self,filename):\n",
    "        \"\"\" depricated! \"\"\"\n",
    "\n",
    "        # get feature operation containing\n",
    "        feature_op = self.read([filename])\n",
    "\n",
    "        with tf.Session() as sess:\n",
    "\n",
    "            tf.global_variables_initializer()\n",
    "\n",
    "            coord = tf.train.Coordinator()\n",
    "            threads = tf.train.start_queue_runners(coord=coord)\n",
    "\n",
    "            return sess.run(feature_op)"
   ]
  },
  {
   "cell_type": "code",
   "execution_count": 4,
   "metadata": {
    "collapsed": true
   },
   "outputs": [],
   "source": [
    "ds = sorted(glob.glob(r'F:\\acoca\\research\\gee\\dataset\\test\\MOD09Q1MOD09Q\\combine\\240\\data09\\*.gz'),key=os.path.getmtime)"
   ]
  },
  {
   "cell_type": "code",
   "execution_count": 5,
   "metadata": {},
   "outputs": [
    {
     "data": {
      "text/plain": [
       "'F:\\\\acoca\\\\research\\\\gee\\\\dataset\\\\test\\\\MOD09Q1MOD09Q\\\\combine\\\\240\\\\data09\\\\0.gz'"
      ]
     },
     "execution_count": 5,
     "metadata": {},
     "output_type": "execute_result"
    }
   ],
   "source": [
    "ds[0]"
   ]
  },
  {
   "cell_type": "code",
   "execution_count": null,
   "metadata": {},
   "outputs": [
    {
     "name": "stdout",
     "output_type": "stream",
     "text": [
      "INFO:tensorflow:Error reported to Coordinator: <class 'tensorflow.python.framework.errors_impl.CancelledError'>, Enqueue operation was cancelled\n",
      "\t [[Node: input_producer/input_producer_EnqueueMany = QueueEnqueueManyV2[Tcomponents=[DT_STRING], timeout_ms=-1, _device=\"/job:localhost/replica:0/task:0/device:CPU:0\"](input_producer, input_producer/RandomShuffle)]]\n"
     ]
    }
   ],
   "source": [
    "#viz bad \n",
    "x250__, x500__, doy__, year__, labels__ = MODparser().read_and_return(ds[0])"
   ]
  },
  {
   "cell_type": "code",
   "execution_count": 6,
   "metadata": {},
   "outputs": [
    {
     "name": "stdout",
     "output_type": "stream",
     "text": [
      "ERROR! Session/line number was not unique in database. History logging moved to new session 608\n"
     ]
    },
    {
     "ename": "NameError",
     "evalue": "name 'x250__' is not defined",
     "traceback": [
      "\u001b[1;31m---------------------------------------------------------------------------\u001b[0m",
      "\u001b[1;31mNameError\u001b[0m                                 Traceback (most recent call last)",
      "\u001b[1;32m<ipython-input-6-14c8cf8896c9>\u001b[0m in \u001b[0;36m<module>\u001b[1;34m()\u001b[0m\n\u001b[0;32m      2\u001b[0m \u001b[1;32mimport\u001b[0m \u001b[0mnumpy\u001b[0m \u001b[1;32mas\u001b[0m \u001b[0mnp\u001b[0m\u001b[1;33m\u001b[0m\u001b[0m\n\u001b[0;32m      3\u001b[0m \u001b[1;33m\u001b[0m\u001b[0m\n\u001b[1;32m----> 4\u001b[1;33m \u001b[0mplt\u001b[0m\u001b[1;33m.\u001b[0m\u001b[0mimshow\u001b[0m\u001b[1;33m(\u001b[0m\u001b[0mx250__\u001b[0m\u001b[1;33m[\u001b[0m\u001b[1;36m11\u001b[0m\u001b[1;33m,\u001b[0m\u001b[1;33m:\u001b[0m\u001b[1;33m,\u001b[0m\u001b[1;33m:\u001b[0m\u001b[1;33m,\u001b[0m\u001b[1;36m1\u001b[0m\u001b[1;33m]\u001b[0m\u001b[1;33m,\u001b[0m\u001b[0mcmap\u001b[0m\u001b[1;33m=\u001b[0m\u001b[1;34m'RdYlGn'\u001b[0m\u001b[1;33m)\u001b[0m\u001b[1;33m\u001b[0m\u001b[0m\n\u001b[0m\u001b[0;32m      5\u001b[0m \u001b[0mplt\u001b[0m\u001b[1;33m.\u001b[0m\u001b[0mlegend\u001b[0m\u001b[1;33m(\u001b[0m\u001b[1;33m)\u001b[0m\u001b[1;33m\u001b[0m\u001b[0m\n",
      "\u001b[1;31mNameError\u001b[0m: name 'x250__' is not defined"
     ],
     "output_type": "error"
    }
   ],
   "source": [
    "import matplotlib.pyplot as plt \n",
    "import numpy as np\n",
    "\n",
    "plt.imshow(x250__[11,:,:,1],cmap='RdYlGn')\n",
    "plt.legend()"
   ]
  },
  {
   "cell_type": "code",
   "execution_count": 13,
   "metadata": {},
   "outputs": [
    {
     "name": "stderr",
     "output_type": "stream",
     "text": [
      "No handles with labels found to put in legend.\n"
     ]
    },
    {
     "data": {
      "text/plain": [
       "<matplotlib.legend.Legend at 0x7ff065c2aef0>"
      ]
     },
     "execution_count": 13,
     "metadata": {},
     "output_type": "execute_result"
    },
    {
     "data": {
      "image/png": "[encoded data removed]",
      "text/plain": [
       "<matplotlib.figure.Figure at 0x7ff063b17cf8>"
      ]
     },
     "metadata": {},
     "output_type": "display_data"
    }
   ],
   "source": [
    "plt.imshow(x500__[11,:,:,4],cmap='RdYlGn')\n",
    "plt.legend()"
   ]
  }
 ],
 "metadata": {
  "kernelspec": {
   "display_name": "Python [conda env:py36]",
   "language": "python",
   "name": "conda-env-py36-py"
  },
  "language_info": {
   "codemirror_mode": {
    "name": "ipython",
    "version": 3
   },
   "file_extension": ".py",
   "mimetype": "text/x-python",
   "name": "python",
   "nbconvert_exporter": "python",
   "pygments_lexer": "ipython3",
   "version": "3.6.4"
  }
 },
 "nbformat": 4,
 "nbformat_minor": 2
}
