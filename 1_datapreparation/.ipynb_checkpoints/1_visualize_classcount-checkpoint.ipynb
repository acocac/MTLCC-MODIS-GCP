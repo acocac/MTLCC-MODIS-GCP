{
 "cells": [
  {
   "cell_type": "code",
   "execution_count": 14,
   "metadata": {
    "collapsed": true
   },
   "outputs": [],
   "source": [
    "\"\"\"\n",
    "ESA - MODELS 38\n",
    "http://maps.elie.ucl.ac.be/CCI/viewer/\n",
    "\"\"\"\n",
    "\n",
    "CLASSES_NAMES_raw = {\n",
    "    0: 'Cropland rainfed',\n",
    "    1: 'Cropland rainfed - Herbaceous cover',\n",
    "    2: 'Cropland rainfed - Tree or shrub cover',\n",
    "    3: 'Cropland irrigated or post-flooding',\n",
    "    4: 'Mosaic cropland (>50%) / natural vegetation (tree/shrub/herbaceous cover) (<50%)',\n",
    "    5: 'Mosaic natural vegetation (tree/shrub/herbaceous cover) (>50%) / cropland (<50%)',\n",
    "    6: 'Tree cover broadleaved evergreen closed to open (>15%)',\n",
    "    7: 'Tree cover  broadleaved  deciduous  closed to open (>15%)',\n",
    "    8: 'Tree cover  broadleaved  deciduous  closed (>40%)',\n",
    "    9: 'Tree cover  broadleaved  deciduous  open (15-40%)',\n",
    "    10: 'Tree cover  needleleaved  evergreen  closed to open (>15%)',\n",
    "    11: 'Tree cover  needleleaved  evergreen  closed (>40%)',\n",
    "    12: 'Tree cover  needleleaved  evergreen  open (15-40%)',\n",
    "    13: 'Tree cover  needleleaved  deciduous  closed to open (>15%)',\n",
    "    14: 'Tree cover  needleleaved  deciduous  closed (>40%)',\n",
    "    15: 'Tree cover  needleleaved  deciduous  open (15-40%)',\n",
    "    16: 'Tree cover  mixed leaf type (broadleaved and needleleaved)',\n",
    "    17: 'Mosaic tree and shrub (>50%) / herbaceous cover (<50%)',\n",
    "    18: 'Mosaic herbaceous cover (>50%) / tree and shrub (<50%)',\n",
    "    19: 'Shrubland',\n",
    "    20: 'Shrubland evergreen',\n",
    "    21: 'Shrubland deciduous',\n",
    "    22: 'Grassland',\n",
    "    23: 'Lichens and mosses',\n",
    "    24: 'Sparse vegetation (tree/shrub/herbaceous cover) (<15%)',\n",
    "    25: 'Sparse tree (<15%)',\n",
    "    26: 'Sparse shrub (<15%)',\n",
    "    27: 'Sparse herbaceous cover (<15%)',\n",
    "    28: 'Tree cover flooded fresh or brakish water',\n",
    "    29: 'Tree cover flooded saline water',\n",
    "    30: 'Shrub or herbaceous cover flooded fresh/saline/brakish water',\n",
    "    31: 'Urban areas',\n",
    "    32: 'Bare areas',\n",
    "    33: 'Consolidated bare areas',\n",
    "    34: 'Unconsolidated bare areas',\n",
    "    35: 'Water bodies',\n",
    "    36: 'Permanent snow and ice'\n",
    "}"
   ]
  },
  {
   "cell_type": "code",
   "execution_count": 15,
   "metadata": {
    "collapsed": true
   },
   "outputs": [],
   "source": [
    "\"\"\"\n",
    "ESA - MODELS 9\n",
    "http://maps.elie.ucl.ac.be/CCI/viewer/\n",
    "\"\"\"\n",
    "\n",
    "CLASSES_NAMES_simple = {\n",
    "    0: 'Non-reliable',    \n",
    "    1: 'Woodland',\n",
    "    2: 'Grassland',\n",
    "    3: 'Cropland',\n",
    "    4: 'Wetland',\n",
    "    5: 'Artificial',\n",
    "    6: 'Sparce/Bare',\n",
    "}"
   ]
  },
  {
   "cell_type": "code",
   "execution_count": 16,
   "metadata": {
    "collapsed": true
   },
   "outputs": [],
   "source": [
    "def aggregate_MODIS_6classes(arr):\n",
    "    \"\"\"\n",
    "    a function for aggregating from ESA-CCI classes to simple classes\n",
    "    \"\"\"\n",
    "    ##ESA-CCI to new classes\n",
    "    woodland = [1, 2, 3, 4, 5, 6 , 7]\n",
    "    grassland = [8, 9, 10]\n",
    "    cropland = [12, 14]\n",
    "    wetland = [11, 15, 17]\n",
    "    artificial = [13]\n",
    "    sparce_bare = [16]\n",
    "\n",
    "    arr_reclass = arr.copy()\n",
    "    arr_reclass[np.isin(arr, woodland)] = 1 \n",
    "    arr_reclass[np.isin(arr, grassland)] = 2\n",
    "    arr_reclass[np.isin(arr, cropland)] = 3 \n",
    "    arr_reclass[np.isin(arr, wetland)] = 4\n",
    "    arr_reclass[np.isin(arr, artificial)] = 5\n",
    "    arr_reclass[np.isin(arr, sparce_bare)] = 6 \n",
    "    \n",
    "    return arr_reclass"
   ]
  },
  {
   "cell_type": "code",
   "execution_count": 17,
   "metadata": {
    "collapsed": true
   },
   "outputs": [],
   "source": [
    "def aggregate_MODIS_6classesnonforest(arr):\n",
    "    \"\"\"\n",
    "    a function for aggregating from ESA-CCI classes to simple classes\n",
    "    \"\"\"\n",
    "    ##ESA-CCI to new classes\n",
    "    woodland = [1, 2, 3, 4, 5, 6 , 7]\n",
    "    grassland = [8, 9, 10]\n",
    "    cropland = [12, 14]\n",
    "    wetland = [11, 15, 17]\n",
    "    artificial = [13]\n",
    "    sparce_bare = [16]\n",
    "    noise = [0]\n",
    "\n",
    "    arr_reclass = arr.copy()\n",
    "    arr_reclass[np.isin(arr, woodland)] = None \n",
    "    arr_reclass[np.isin(arr, grassland)] = 2\n",
    "    arr_reclass[np.isin(arr, cropland)] = 3 \n",
    "    arr_reclass[np.isin(arr, wetland)] = 4\n",
    "    arr_reclass[np.isin(arr, artificial)] = 5\n",
    "    arr_reclass[np.isin(arr, sparce_bare)] = 6 \n",
    "    #arr_reclass[np.isin(arr, noise)] = None \n",
    "    \n",
    "    return arr_reclass"
   ]
  },
  {
   "cell_type": "code",
   "execution_count": 18,
   "metadata": {
    "collapsed": true
   },
   "outputs": [],
   "source": [
    "def aggregate_ESA_6classes(arr):\n",
    "    \"\"\"\n",
    "    a function for aggregating from ESA-CCI classes to simple classes\n",
    "    \"\"\"\n",
    "    ##ESA-CCI to new classes\n",
    "    woodland = [7,  8,  9, 10, 11, 12, 13, 14, 15, 16, 17, 29, 30, 20, 21, 22, 18]\n",
    "    grassland = [23, 19]\n",
    "    cropland = [1, 2, 3, 4, 5, 6]\n",
    "    wetland = [31, 36, 37]\n",
    "    artificial = [32]\n",
    "    sparce_bare = [24, 25, 26, 27, 28, 33, 34, 35]\n",
    "\n",
    "    arr_reclass = arr.copy()\n",
    "    arr_reclass[np.isin(arr, woodland)] = 1 \n",
    "    arr_reclass[np.isin(arr, grassland)] = 2\n",
    "    arr_reclass[np.isin(arr, cropland)] = 3 \n",
    "    arr_reclass[np.isin(arr, wetland)] = 4\n",
    "    arr_reclass[np.isin(arr, artificial)] = 5\n",
    "    arr_reclass[np.isin(arr, sparce_bare)] = 6 \n",
    "    \n",
    "    return arr_reclass"
   ]
  },
  {
   "cell_type": "code",
   "execution_count": 28,
   "metadata": {
    "collapsed": true
   },
   "outputs": [],
   "source": [
    "import numpy as np\n",
    "import os\n",
    "from collections import Counter\n",
    "indir = r\"F:\\acoca\\research\\gee\\dataset\\thesis\\egu_MOD09A1_500m_16d\\gz\\d7\\23\\MODIS_all_cleaned\\tileids\"\n",
    "\n",
    "evaltiles = np.loadtxt(os.path.join(indir,\"eval.tileids\"), dtype='str')\n",
    "testtiles = np.loadtxt(os.path.join(indir,\"test_fold0.tileids\"), dtype='str')\n",
    "traintiles = np.loadtxt(os.path.join(indir,\"train_fold0.tileids\"), dtype='str')"
   ]
  },
  {
   "cell_type": "code",
   "execution_count": 56,
   "metadata": {},
   "outputs": [
    {
     "name": "stdout",
     "output_type": "stream",
     "text": [
      "F:\\acoca\\research\\gee\\dataset\\egu_MOD09A1_500m_16d\\gz\\23\\MODIS_all_all\\classes\\data01\n",
      "F:\\acoca\\research\\gee\\dataset\\egu_MOD09A1_500m_16d\\gz\\23\\MODIS_all_all\\classes\\data02\n",
      "F:\\acoca\\research\\gee\\dataset\\egu_MOD09A1_500m_16d\\gz\\23\\MODIS_all_all\\classes\\data03\n"
     ]
    }
   ],
   "source": [
    "indir = r\"F:\\acoca\\research\\gee\\dataset\\egu_MOD09A1_500m_16d\\gz\\23\\MODIS_all_all\\classes\"\n",
    "\n",
    "label_all = []\n",
    "\n",
    "import os\n",
    "\n",
    "tilesid=traintiles\n",
    "for i in range(9, 10):\n",
    "    indir_y = os.path.join(indir,\"data\"+str(i).zfill(2))\n",
    "    \n",
    "    label_y = []\n",
    "    \n",
    "    for f in range(0,len(tilesid)):\n",
    "            filename = os.path.join(indir_y,tilesid[f]+\".npy\")\n",
    "            labels__ = np.load(filename)\n",
    "            label_y = np.append(label_y,labels__)\n",
    "                \n",
    "    label_all.append(label_y)"
   ]
  },
  {
   "cell_type": "code",
   "execution_count": 35,
   "metadata": {
    "collapsed": true
   },
   "outputs": [],
   "source": [
    "indir = r\"F:\\acoca\\research\\gee\\dataset\\thesis\\egu_MOD09A1_500m_16d\\gz\\d7\\23\\MODIS_all_cleaned\\classes\"\n",
    "\n",
    "label_all = []\n",
    "\n",
    "tilesid=evaltiles\n",
    "#for i in range(1, 13):\n",
    "for i in range(9, 10):\n",
    "    indir_y = os.path.join(indir,\"data\"+str(i).zfill(2))\n",
    "    \n",
    "    label_y = []\n",
    "    \n",
    "    for f in range(0,len(tilesid)):\n",
    "            filename = os.path.join(indir_y,allid[f]+\".npy\")\n",
    "            labels__ = np.load(filename)\n",
    "            label_y = np.append(label_y,labels__)\n",
    "                \n",
    "    label_all.append(label_y)"
   ]
  },
  {
   "cell_type": "code",
   "execution_count": 38,
   "metadata": {
    "collapsed": true
   },
   "outputs": [],
   "source": [
    "eval_all = label_all"
   ]
  },
  {
   "cell_type": "code",
   "execution_count": 49,
   "metadata": {
    "collapsed": true
   },
   "outputs": [],
   "source": [
    "y_train = aggregate_MODIS_6classesnonforest(train_all[0])\n",
    "y_test = aggregate_MODIS_6classesnonforest(test_all[0])\n",
    "y_eval = aggregate_MODIS_6classesnonforest(eval_all[0])"
   ]
  },
  {
   "cell_type": "code",
   "execution_count": 50,
   "metadata": {},
   "outputs": [
    {
     "name": "stderr",
     "output_type": "stream",
     "text": [
      "C:\\Users\\PAPAZ\\AppData\\Local\\Continuum\\anaconda2\\envs\\py36\\lib\\site-packages\\pandas\\plotting\\_core.py:1716: UserWarning: Pandas doesn't allow columns to be created via a new attribute name - see https://pandas.pydata.org/pandas-docs/stable/indexing.html#attribute-access\n",
      "  series.name = label\n"
     ]
    },
    {
     "data": {
      "image/png": "[encoded data removed]",
      "text/plain": [
       "<matplotlib.figure.Figure at 0x2790a92b710>"
      ]
     },
     "metadata": {},
     "output_type": "display_data"
    }
   ],
   "source": [
    "import pandas as pd\n",
    "d_train = pd.Series(y_train)\n",
    "d_test = pd.Series(y_test)\n",
    "d_eval = pd.Series(y_eval)\n",
    "\n",
    "vc_train = d_train.value_counts(normalize=True)\n",
    "vc_test = d_test.value_counts(normalize=True)\n",
    "vc_eval = d_eval.value_counts(normalize=True)\n",
    "\n",
    "all_data = pd.concat((vc_train,vc_test,vc_eval), axis=1)\n",
    "all_data = all_data.rename(columns={0: 'train', 1: 'test', 2: 'evaluation'})\n",
    "all_data['class_id'] = all_data.index\n",
    "all_data['class'] = all_data['class_id'].map(CLASSES_NAMES_simple)\n",
    "colors = ['#78b0d9', \"#cae3f3\", \"#d2a180\"] # <-- make two custom RGBs and repeat/alternate them over all the bar elements.\n",
    "ax = all_data.plot(x=\"class\", y=['train', 'test', 'evaluation'], rot=0, color=colors,  kind=\"barh\", width = .7, figsize = (7,7))\n",
    "ax.invert_yaxis()"
   ]
  },
  {
   "cell_type": "code",
   "execution_count": 27,
   "metadata": {
    "collapsed": true
   },
   "outputs": [],
   "source": [
    "import os\n",
    "import numpy as np\n",
    "import pandas as pd\n",
    "\n",
    "allid = []\n",
    "for root, dirs, files in os.walk(r\"F:\\acoca\\research\\gee\\dataset\\thesis\\egu_MOD09A1_500m_16d\\gz\\d10\\23\\MODIS_savcrop_cleaned\\classes\\data09\"):  \n",
    "    for name in files:        \n",
    "        if name.endswith(\".npy\"):  \n",
    "            # shapefile name without extension  \n",
    "            fname, ext = os.path.splitext(name)\n",
    "            allid.append(fname)"
   ]
  },
  {
   "cell_type": "code",
   "execution_count": 28,
   "metadata": {
    "collapsed": true
   },
   "outputs": [],
   "source": [
    "indir = r\"F:\\acoca\\research\\gee\\dataset\\thesis\\egu_MOD09A1_500m_16d\\gz\\d10\\23\\MODIS_savcrop_cleaned\\classes\"\n",
    "\n",
    "label_all = []\n",
    "\n",
    "tilesid=allid\n",
    "#for i in range(1, 13):\n",
    "for i in range(9, 10):\n",
    "    indir_y = os.path.join(indir,\"data\"+str(i).zfill(2))\n",
    "    \n",
    "    label_y = []\n",
    "    \n",
    "    for f in range(0,len(tilesid)):\n",
    "            filename = os.path.join(indir_y,allid[f]+\".npy\")\n",
    "            labels__ = np.load(filename)\n",
    "            label_y = np.append(label_y,labels__)\n",
    "                \n",
    "    label_all.append(label_y)"
   ]
  },
  {
   "cell_type": "code",
   "execution_count": 29,
   "metadata": {
    "collapsed": true
   },
   "outputs": [],
   "source": [
    "u = pd.DataFrame(np.transpose(label_all))"
   ]
  },
  {
   "cell_type": "code",
   "execution_count": 30,
   "metadata": {},
   "outputs": [
    {
     "data": {
      "text/html": [
       "<div>\n",
       "<style scoped>\n",
       "    .dataframe tbody tr th:only-of-type {\n",
       "        vertical-align: middle;\n",
       "    }\n",
       "\n",
       "    .dataframe tbody tr th {\n",
       "        vertical-align: top;\n",
       "    }\n",
       "\n",
       "    .dataframe thead th {\n",
       "        text-align: right;\n",
       "    }\n",
       "</style>\n",
       "<table border=\"1\" class=\"dataframe\">\n",
       "  <thead>\n",
       "    <tr style=\"text-align: right;\">\n",
       "      <th></th>\n",
       "      <th>0</th>\n",
       "    </tr>\n",
       "  </thead>\n",
       "  <tbody>\n",
       "    <tr>\n",
       "      <th>0</th>\n",
       "      <td>0.0</td>\n",
       "    </tr>\n",
       "    <tr>\n",
       "      <th>1</th>\n",
       "      <td>0.0</td>\n",
       "    </tr>\n",
       "    <tr>\n",
       "      <th>2</th>\n",
       "      <td>0.0</td>\n",
       "    </tr>\n",
       "    <tr>\n",
       "      <th>3</th>\n",
       "      <td>0.0</td>\n",
       "    </tr>\n",
       "    <tr>\n",
       "      <th>4</th>\n",
       "      <td>0.0</td>\n",
       "    </tr>\n",
       "    <tr>\n",
       "      <th>5</th>\n",
       "      <td>0.0</td>\n",
       "    </tr>\n",
       "    <tr>\n",
       "      <th>6</th>\n",
       "      <td>0.0</td>\n",
       "    </tr>\n",
       "    <tr>\n",
       "      <th>7</th>\n",
       "      <td>0.0</td>\n",
       "    </tr>\n",
       "    <tr>\n",
       "      <th>8</th>\n",
       "      <td>0.0</td>\n",
       "    </tr>\n",
       "    <tr>\n",
       "      <th>9</th>\n",
       "      <td>0.0</td>\n",
       "    </tr>\n",
       "    <tr>\n",
       "      <th>10</th>\n",
       "      <td>0.0</td>\n",
       "    </tr>\n",
       "    <tr>\n",
       "      <th>11</th>\n",
       "      <td>0.0</td>\n",
       "    </tr>\n",
       "    <tr>\n",
       "      <th>12</th>\n",
       "      <td>0.0</td>\n",
       "    </tr>\n",
       "    <tr>\n",
       "      <th>13</th>\n",
       "      <td>0.0</td>\n",
       "    </tr>\n",
       "    <tr>\n",
       "      <th>14</th>\n",
       "      <td>0.0</td>\n",
       "    </tr>\n",
       "    <tr>\n",
       "      <th>15</th>\n",
       "      <td>0.0</td>\n",
       "    </tr>\n",
       "    <tr>\n",
       "      <th>16</th>\n",
       "      <td>0.0</td>\n",
       "    </tr>\n",
       "    <tr>\n",
       "      <th>17</th>\n",
       "      <td>0.0</td>\n",
       "    </tr>\n",
       "    <tr>\n",
       "      <th>18</th>\n",
       "      <td>0.0</td>\n",
       "    </tr>\n",
       "    <tr>\n",
       "      <th>19</th>\n",
       "      <td>0.0</td>\n",
       "    </tr>\n",
       "    <tr>\n",
       "      <th>20</th>\n",
       "      <td>0.0</td>\n",
       "    </tr>\n",
       "    <tr>\n",
       "      <th>21</th>\n",
       "      <td>0.0</td>\n",
       "    </tr>\n",
       "    <tr>\n",
       "      <th>22</th>\n",
       "      <td>0.0</td>\n",
       "    </tr>\n",
       "    <tr>\n",
       "      <th>23</th>\n",
       "      <td>0.0</td>\n",
       "    </tr>\n",
       "    <tr>\n",
       "      <th>24</th>\n",
       "      <td>0.0</td>\n",
       "    </tr>\n",
       "    <tr>\n",
       "      <th>25</th>\n",
       "      <td>0.0</td>\n",
       "    </tr>\n",
       "    <tr>\n",
       "      <th>26</th>\n",
       "      <td>0.0</td>\n",
       "    </tr>\n",
       "    <tr>\n",
       "      <th>27</th>\n",
       "      <td>0.0</td>\n",
       "    </tr>\n",
       "    <tr>\n",
       "      <th>28</th>\n",
       "      <td>0.0</td>\n",
       "    </tr>\n",
       "    <tr>\n",
       "      <th>29</th>\n",
       "      <td>0.0</td>\n",
       "    </tr>\n",
       "    <tr>\n",
       "      <th>...</th>\n",
       "      <td>...</td>\n",
       "    </tr>\n",
       "    <tr>\n",
       "      <th>23970018</th>\n",
       "      <td>0.0</td>\n",
       "    </tr>\n",
       "    <tr>\n",
       "      <th>23970019</th>\n",
       "      <td>0.0</td>\n",
       "    </tr>\n",
       "    <tr>\n",
       "      <th>23970020</th>\n",
       "      <td>0.0</td>\n",
       "    </tr>\n",
       "    <tr>\n",
       "      <th>23970021</th>\n",
       "      <td>0.0</td>\n",
       "    </tr>\n",
       "    <tr>\n",
       "      <th>23970022</th>\n",
       "      <td>0.0</td>\n",
       "    </tr>\n",
       "    <tr>\n",
       "      <th>23970023</th>\n",
       "      <td>0.0</td>\n",
       "    </tr>\n",
       "    <tr>\n",
       "      <th>23970024</th>\n",
       "      <td>0.0</td>\n",
       "    </tr>\n",
       "    <tr>\n",
       "      <th>23970025</th>\n",
       "      <td>0.0</td>\n",
       "    </tr>\n",
       "    <tr>\n",
       "      <th>23970026</th>\n",
       "      <td>0.0</td>\n",
       "    </tr>\n",
       "    <tr>\n",
       "      <th>23970027</th>\n",
       "      <td>0.0</td>\n",
       "    </tr>\n",
       "    <tr>\n",
       "      <th>23970028</th>\n",
       "      <td>0.0</td>\n",
       "    </tr>\n",
       "    <tr>\n",
       "      <th>23970029</th>\n",
       "      <td>0.0</td>\n",
       "    </tr>\n",
       "    <tr>\n",
       "      <th>23970030</th>\n",
       "      <td>0.0</td>\n",
       "    </tr>\n",
       "    <tr>\n",
       "      <th>23970031</th>\n",
       "      <td>0.0</td>\n",
       "    </tr>\n",
       "    <tr>\n",
       "      <th>23970032</th>\n",
       "      <td>0.0</td>\n",
       "    </tr>\n",
       "    <tr>\n",
       "      <th>23970033</th>\n",
       "      <td>0.0</td>\n",
       "    </tr>\n",
       "    <tr>\n",
       "      <th>23970034</th>\n",
       "      <td>0.0</td>\n",
       "    </tr>\n",
       "    <tr>\n",
       "      <th>23970035</th>\n",
       "      <td>0.0</td>\n",
       "    </tr>\n",
       "    <tr>\n",
       "      <th>23970036</th>\n",
       "      <td>0.0</td>\n",
       "    </tr>\n",
       "    <tr>\n",
       "      <th>23970037</th>\n",
       "      <td>0.0</td>\n",
       "    </tr>\n",
       "    <tr>\n",
       "      <th>23970038</th>\n",
       "      <td>0.0</td>\n",
       "    </tr>\n",
       "    <tr>\n",
       "      <th>23970039</th>\n",
       "      <td>0.0</td>\n",
       "    </tr>\n",
       "    <tr>\n",
       "      <th>23970040</th>\n",
       "      <td>0.0</td>\n",
       "    </tr>\n",
       "    <tr>\n",
       "      <th>23970041</th>\n",
       "      <td>0.0</td>\n",
       "    </tr>\n",
       "    <tr>\n",
       "      <th>23970042</th>\n",
       "      <td>0.0</td>\n",
       "    </tr>\n",
       "    <tr>\n",
       "      <th>23970043</th>\n",
       "      <td>0.0</td>\n",
       "    </tr>\n",
       "    <tr>\n",
       "      <th>23970044</th>\n",
       "      <td>0.0</td>\n",
       "    </tr>\n",
       "    <tr>\n",
       "      <th>23970045</th>\n",
       "      <td>0.0</td>\n",
       "    </tr>\n",
       "    <tr>\n",
       "      <th>23970046</th>\n",
       "      <td>0.0</td>\n",
       "    </tr>\n",
       "    <tr>\n",
       "      <th>23970047</th>\n",
       "      <td>0.0</td>\n",
       "    </tr>\n",
       "  </tbody>\n",
       "</table>\n",
       "<p>23970048 rows × 1 columns</p>\n",
       "</div>"
      ],
      "text/plain": [
       "            0\n",
       "0         0.0\n",
       "1         0.0\n",
       "2         0.0\n",
       "3         0.0\n",
       "4         0.0\n",
       "5         0.0\n",
       "6         0.0\n",
       "7         0.0\n",
       "8         0.0\n",
       "9         0.0\n",
       "10        0.0\n",
       "11        0.0\n",
       "12        0.0\n",
       "13        0.0\n",
       "14        0.0\n",
       "15        0.0\n",
       "16        0.0\n",
       "17        0.0\n",
       "18        0.0\n",
       "19        0.0\n",
       "20        0.0\n",
       "21        0.0\n",
       "22        0.0\n",
       "23        0.0\n",
       "24        0.0\n",
       "25        0.0\n",
       "26        0.0\n",
       "27        0.0\n",
       "28        0.0\n",
       "29        0.0\n",
       "...       ...\n",
       "23970018  0.0\n",
       "23970019  0.0\n",
       "23970020  0.0\n",
       "23970021  0.0\n",
       "23970022  0.0\n",
       "23970023  0.0\n",
       "23970024  0.0\n",
       "23970025  0.0\n",
       "23970026  0.0\n",
       "23970027  0.0\n",
       "23970028  0.0\n",
       "23970029  0.0\n",
       "23970030  0.0\n",
       "23970031  0.0\n",
       "23970032  0.0\n",
       "23970033  0.0\n",
       "23970034  0.0\n",
       "23970035  0.0\n",
       "23970036  0.0\n",
       "23970037  0.0\n",
       "23970038  0.0\n",
       "23970039  0.0\n",
       "23970040  0.0\n",
       "23970041  0.0\n",
       "23970042  0.0\n",
       "23970043  0.0\n",
       "23970044  0.0\n",
       "23970045  0.0\n",
       "23970046  0.0\n",
       "23970047  0.0\n",
       "\n",
       "[23970048 rows x 1 columns]"
      ]
     },
     "execution_count": 30,
     "metadata": {},
     "output_type": "execute_result"
    }
   ],
   "source": [
    "u"
   ]
  },
  {
   "cell_type": "code",
   "execution_count": 31,
   "metadata": {
    "collapsed": true
   },
   "outputs": [],
   "source": [
    "simple = u.apply(aggregate_MODIS_6classes)  \n",
    "#simple = u.apply(aggregate_ESA_6classes)  "
   ]
  },
  {
   "cell_type": "code",
   "execution_count": 95,
   "metadata": {
    "collapsed": true
   },
   "outputs": [],
   "source": [
    "#non-forest\n",
    "#simple = u.apply(aggregate_MODIS_6classesnonforest)  \n",
    "#simple = u.apply(aggregate_ESA_6classes)  "
   ]
  },
  {
   "cell_type": "code",
   "execution_count": 96,
   "metadata": {
    "collapsed": true
   },
   "outputs": [],
   "source": [
    "###all_data = u.apply(pd.value_counts, normalize=True)   if 6 classes data "
   ]
  },
  {
   "cell_type": "code",
   "execution_count": 32,
   "metadata": {
    "collapsed": true
   },
   "outputs": [],
   "source": [
    "all_data = simple.apply(pd.value_counts, normalize=True)\n",
    "#all_data = simple.apply(pd.value_counts, normalize=False)  \n",
    "#all_data = all_data.sort_index()"
   ]
  },
  {
   "cell_type": "code",
   "execution_count": 33,
   "metadata": {
    "collapsed": true
   },
   "outputs": [],
   "source": [
    "#all_data = all_data.rename(columns={x:y for x,y in zip(all_data.columns,range(2001,2013))})\n",
    "all_data = all_data.rename(columns={x:y for x,y in zip(all_data.columns,range(2009,2010))})"
   ]
  },
  {
   "cell_type": "code",
   "execution_count": 34,
   "metadata": {
    "collapsed": true
   },
   "outputs": [],
   "source": [
    "from collections import Counter"
   ]
  },
  {
   "cell_type": "code",
   "execution_count": 35,
   "metadata": {},
   "outputs": [
    {
     "data": {
      "text/html": [
       "<div>\n",
       "<style scoped>\n",
       "    .dataframe tbody tr th:only-of-type {\n",
       "        vertical-align: middle;\n",
       "    }\n",
       "\n",
       "    .dataframe tbody tr th {\n",
       "        vertical-align: top;\n",
       "    }\n",
       "\n",
       "    .dataframe thead th {\n",
       "        text-align: right;\n",
       "    }\n",
       "</style>\n",
       "<table border=\"1\" class=\"dataframe\">\n",
       "  <thead>\n",
       "    <tr style=\"text-align: right;\">\n",
       "      <th></th>\n",
       "      <th>2009</th>\n",
       "    </tr>\n",
       "  </thead>\n",
       "  <tbody>\n",
       "    <tr>\n",
       "      <th>0.0</th>\n",
       "      <td>0.911702</td>\n",
       "    </tr>\n",
       "    <tr>\n",
       "      <th>2.0</th>\n",
       "      <td>0.083735</td>\n",
       "    </tr>\n",
       "    <tr>\n",
       "      <th>3.0</th>\n",
       "      <td>0.004563</td>\n",
       "    </tr>\n",
       "  </tbody>\n",
       "</table>\n",
       "</div>"
      ],
      "text/plain": [
       "         2009\n",
       "0.0  0.911702\n",
       "2.0  0.083735\n",
       "3.0  0.004563"
      ]
     },
     "execution_count": 35,
     "metadata": {},
     "output_type": "execute_result"
    }
   ],
   "source": [
    "all_data"
   ]
  },
  {
   "cell_type": "code",
   "execution_count": 36,
   "metadata": {},
   "outputs": [
    {
     "data": {
      "image/png": "[encoded data removed]",
      "text/plain": [
       "<matplotlib.figure.Figure at 0x1bb8a9c9898>"
      ]
     },
     "metadata": {},
     "output_type": "display_data"
    }
   ],
   "source": [
    "import matplotlib.pyplot as plt \n",
    "\n",
    "all_data['class'] = all_data.index.to_series().map(CLASSES_NAMES_simple)\n",
    "all_data.plot(x=\"class\" , kind=\"bar\", rot=0, colormap='copper',  width = .7, figsize = (8,7))\n",
    "axes = plt.gca()\n",
    "axes.set_ylim([0,0.8])\n",
    "plt.show()"
   ]
  }
 ],
 "metadata": {
  "kernelspec": {
   "display_name": "Python [conda env:py36]",
   "language": "python",
   "name": "conda-env-py36-py"
  },
  "language_info": {
   "codemirror_mode": {
    "name": "ipython",
    "version": 3
   },
   "file_extension": ".py",
   "mimetype": "text/x-python",
   "name": "python",
   "nbconvert_exporter": "python",
   "pygments_lexer": "ipython3",
   "version": "3.6.4"
  }
 },
 "nbformat": 4,
 "nbformat_minor": 2
}
