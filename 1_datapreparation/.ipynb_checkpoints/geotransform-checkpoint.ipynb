{
 "cells": [
  {
   "cell_type": "code",
   "execution_count": null,
   "metadata": {
    "collapsed": true
   },
   "outputs": [],
   "source": [
    "from osgeo import gdal, ogr\n",
    "\n",
    "# Open the shapefile and get its upper left coordinates.\n",
    "shp = ogr.Open('grid.shp')\n",
    "lyr = shp.GetLayer()\n",
    "extent = lyr.GetExtent()\n",
    "ulx = extent[0]\n",
    "uly = extent[3]\n",
    "\n",
    "# Create a raster with 20 columns, 20 rows, and 1 band (the shapefile is\n",
    "# only 20 units wide and 20 tall).\n",
    "ds = gdal.GetDriverByName('gtiff').Create('rasterizetest.tif', 20, 20, 1)\n",
    "\n",
    "# Set a geotransform using the upper left corner of the shapefile extent,\n",
    "# a pixel width of 1, and a pixel height of -1.\n",
    "ds.SetGeoTransform([ulx, 1, 0, uly, 0, -1])\n",
    "\n",
    "# Copy the projection info.\n",
    "ds.SetProjection(lyr.GetSpatialRef().ExportToWkt())\n",
    "\n",
    "# Get a list of values from the ID field in the shapefile.\n",
    "ids = [row.GetField('ID') for row in lyr]\n",
    "\n",
    "# Now loop through the IDs and for each one set an attribute filter to\n",
    "# limit the layer to that specific polygon, and rasterize the layer into\n",
    "# the raster band using the ID value.\n",
    "for i in ids:\n",
    "    lyr.SetAttributeFilter('ID=' + str(i))\n",
    "    gdal.RasterizeLayer(ds, [1], lyr, burn_values=[i])\n",
    "\n",
    "del shp, ds"
   ]
  },
  {
   "cell_type": "code",
   "execution_count": 1,
   "metadata": {
    "collapsed": true
   },
   "outputs": [],
   "source": [
    "from osgeo import gdal, ogr\n"
   ]
  },
  {
   "cell_type": "code",
   "execution_count": 2,
   "metadata": {
    "collapsed": true
   },
   "outputs": [],
   "source": [
    "def ogr_geojson_1():\n",
    "\n",
    "    gdaltest.geojson_drv = ogr.GetDriverByName('GeoJSON')\n",
    "\n",
    "    if gdaltest.geojson_drv is not None:\n",
    "        return 'success'\n",
    "    else:\n",
    "        return 'fail'"
   ]
  },
  {
   "cell_type": "code",
   "execution_count": 4,
   "metadata": {},
   "outputs": [],
   "source": [
    "def explode(coords):\n",
    "    \"\"\"Explode a GeoJSON geometry's coordinates object and yield coordinate tuples.\n",
    "    As long as the input is conforming, the type of the geometry doesn't matter.\"\"\"\n",
    "    for e in coords:\n",
    "        if isinstance(e, (float, int, long)):\n",
    "            yield coords\n",
    "            break\n",
    "        else:\n",
    "            for f in explode(e):\n",
    "                yield f\n",
    "\n",
    "def bbox(f):\n",
    "    x, y = zip(*list(explode(f['geometry']['coordinates'])))\n",
    "    return min(x), min(y), max(x), max(y)"
   ]
  },
  {
   "cell_type": "code",
   "execution_count": 7,
   "metadata": {
    "collapsed": true
   },
   "outputs": [],
   "source": [
    "geofile = r\"C:\\Users\\PAPAZ\\Downloads\\temp\\drive-download-20181119T135750Z-001\\split_amz.shp\""
   ]
  },
  {
   "cell_type": "code",
   "execution_count": 8,
   "metadata": {},
   "outputs": [],
   "source": [
    "# Open the shapefile and get its upper left coordinates.\n",
    "shp = ogr.Open(geofile)\n",
    "lyr = shp.GetLayer()\n",
    "extent = lyr.GetExtent()\n",
    "ulx = extent[0]\n",
    "uly = extent[3]"
   ]
  },
  {
   "cell_type": "code",
   "execution_count": 15,
   "metadata": {},
   "outputs": [
    {
     "data": {
      "text/plain": [
       "-73.98124988163"
      ]
     },
     "execution_count": 15,
     "metadata": {},
     "output_type": "execute_result"
    }
   ],
   "source": [
    "ulx"
   ]
  },
  {
   "cell_type": "code",
   "execution_count": 14,
   "metadata": {},
   "outputs": [
    {
     "ename": "TypeError",
     "evalue": "not a number",
     "output_type": "error",
     "traceback": [
      "\u001b[1;31m---------------------------------------------------------------------------\u001b[0m",
      "\u001b[1;31mTypeError\u001b[0m                                 Traceback (most recent call last)",
      "\u001b[1;32m<ipython-input-14-4f3fb3bdfbe2>\u001b[0m in \u001b[0;36m<module>\u001b[1;34m()\u001b[0m\n\u001b[0;32m     18\u001b[0m \u001b[1;32mfor\u001b[0m \u001b[0mi\u001b[0m \u001b[1;32min\u001b[0m \u001b[0mids\u001b[0m\u001b[1;33m:\u001b[0m\u001b[1;33m\u001b[0m\u001b[0m\n\u001b[0;32m     19\u001b[0m     \u001b[0mlyr\u001b[0m\u001b[1;33m.\u001b[0m\u001b[0mSetAttributeFilter\u001b[0m\u001b[1;33m(\u001b[0m\u001b[1;34m'ID='\u001b[0m \u001b[1;33m+\u001b[0m \u001b[0mstr\u001b[0m\u001b[1;33m(\u001b[0m\u001b[0mi\u001b[0m\u001b[1;33m)\u001b[0m\u001b[1;33m)\u001b[0m\u001b[1;33m\u001b[0m\u001b[0m\n\u001b[1;32m---> 20\u001b[1;33m     \u001b[0mgdal\u001b[0m\u001b[1;33m.\u001b[0m\u001b[0mRasterizeLayer\u001b[0m\u001b[1;33m(\u001b[0m\u001b[0mds\u001b[0m\u001b[1;33m,\u001b[0m \u001b[1;33m[\u001b[0m\u001b[1;36m1\u001b[0m\u001b[1;33m]\u001b[0m\u001b[1;33m,\u001b[0m \u001b[0mlyr\u001b[0m\u001b[1;33m,\u001b[0m \u001b[0mburn_values\u001b[0m\u001b[1;33m=\u001b[0m\u001b[1;33m[\u001b[0m\u001b[0mi\u001b[0m\u001b[1;33m]\u001b[0m\u001b[1;33m)\u001b[0m\u001b[1;33m\u001b[0m\u001b[0m\n\u001b[0m\u001b[0;32m     21\u001b[0m \u001b[1;33m\u001b[0m\u001b[0m\n\u001b[0;32m     22\u001b[0m \u001b[1;32mdel\u001b[0m \u001b[0mshp\u001b[0m\u001b[1;33m,\u001b[0m \u001b[0mds\u001b[0m\u001b[1;33m\u001b[0m\u001b[0m\n",
      "\u001b[1;32m~\\AppData\\Local\\Continuum\\anaconda2\\envs\\py36\\lib\\site-packages\\osgeo\\gdal.py\u001b[0m in \u001b[0;36mRasterizeLayer\u001b[1;34m(*args, **kwargs)\u001b[0m\n\u001b[0;32m   2838\u001b[0m \u001b[1;32mdef\u001b[0m \u001b[0mRasterizeLayer\u001b[0m\u001b[1;33m(\u001b[0m\u001b[1;33m*\u001b[0m\u001b[0margs\u001b[0m\u001b[1;33m,\u001b[0m \u001b[1;33m**\u001b[0m\u001b[0mkwargs\u001b[0m\u001b[1;33m)\u001b[0m\u001b[1;33m:\u001b[0m\u001b[1;33m\u001b[0m\u001b[0m\n\u001b[0;32m   2839\u001b[0m     \u001b[1;34m\"\"\"RasterizeLayer(Dataset dataset, int bands, Layer layer, void * pfnTransformer=None, void * pTransformArg=None, int burn_values=0, char ** options=None, GDALProgressFunc callback=0, void * callback_data=None) -> int\"\"\"\u001b[0m\u001b[1;33m\u001b[0m\u001b[0m\n\u001b[1;32m-> 2840\u001b[1;33m     \u001b[1;32mreturn\u001b[0m \u001b[0m_gdal\u001b[0m\u001b[1;33m.\u001b[0m\u001b[0mRasterizeLayer\u001b[0m\u001b[1;33m(\u001b[0m\u001b[1;33m*\u001b[0m\u001b[0margs\u001b[0m\u001b[1;33m,\u001b[0m \u001b[1;33m**\u001b[0m\u001b[0mkwargs\u001b[0m\u001b[1;33m)\u001b[0m\u001b[1;33m\u001b[0m\u001b[0m\n\u001b[0m\u001b[0;32m   2841\u001b[0m \u001b[1;33m\u001b[0m\u001b[0m\n\u001b[0;32m   2842\u001b[0m \u001b[1;32mdef\u001b[0m \u001b[0mPolygonize\u001b[0m\u001b[1;33m(\u001b[0m\u001b[1;33m*\u001b[0m\u001b[0margs\u001b[0m\u001b[1;33m,\u001b[0m \u001b[1;33m**\u001b[0m\u001b[0mkwargs\u001b[0m\u001b[1;33m)\u001b[0m\u001b[1;33m:\u001b[0m\u001b[1;33m\u001b[0m\u001b[0m\n",
      "\u001b[1;31mTypeError\u001b[0m: not a number"
     ]
    }
   ],
   "source": [
    "# Create a raster with 20 columns, 20 rows, and 1 band (the shapefile is\n",
    "# only 20 units wide and 20 tall).\n",
    "ds = gdal.GetDriverByName('gtiff').Create(r'C:\\Users\\PAPAZ\\Downloads\\temp\\rasterizetest.tif', 20, 20, 1)\n",
    "\n",
    "# Set a geotransform using the upper left corner of the shapefile extent,\n",
    "# a pixel width of 1, and a pixel height of -1.\n",
    "ds.SetGeoTransform([ulx, 1, 0, uly, 0, -1])\n",
    "\n",
    "# Copy the projection info.\n",
    "ds.SetProjection(lyr.GetSpatialRef().ExportToWkt())\n",
    "\n",
    "# Get a list of values from the ID field in the shapefile.\n",
    "ids = [row.GetField('ID') for row in lyr]\n",
    "\n",
    "# Now loop through the IDs and for each one set an attribute filter to\n",
    "# limit the layer to that specific polygon, and rasterize the layer into\n",
    "# the raster band using the ID value.\n",
    "for i in ids:\n",
    "    lyr.SetAttributeFilter('ID=' + str(i))\n",
    "    gdal.RasterizeLayer(ds, [1], lyr, burn_values=[i])\n",
    "\n",
    "del shp, ds"
   ]
  },
  {
   "cell_type": "code",
   "execution_count": 18,
   "metadata": {},
   "outputs": [],
   "source": [
    "\n",
    "#ds = gdal.Open(sys.argv[1], GA_ReadOnly)\n",
    "ds = gdal.Open(r'C:\\Users\\PAPAZ\\Downloads\\temp\\geo.tif')\n",
    "\n",
    "if ds is None:\n",
    "    print('Failed open file')\n",
    "#    sys.exit(1)\n",
    "\n",
    "transf = ds.GetGeoTransform()\n",
    "cols = ds.RasterXSize\n",
    "rows = ds.RasterYSize\n",
    "bands = ds.RasterCount #1\n",
    "band = ds.GetRasterBand(1)\n",
    "bandtype = gdal.GetDataTypeName(band.DataType) #Int16\n",
    "driver = ds.GetDriver().LongName #'GeoTIFF'\n",
    "transfInv = gdal.InvGeoTransform(transf)"
   ]
  },
  {
   "cell_type": "code",
   "execution_count": 142,
   "metadata": {},
   "outputs": [],
   "source": [
    "import fiona\n",
    "import rasterio\n",
    "from pprint import pprint\n",
    "\n",
    "def raster_point_coords(raster, points):\n",
    "\n",
    "    # initialize dict to hold data\n",
    "    pt_data = {}\n",
    "    \n",
    "    x_all = []\n",
    "    y_all = []\n",
    "    id_all = []\n",
    "\n",
    "    with fiona.open(points, 'r') as src:\n",
    "        for feature in src:\n",
    "            # create dict entry for each feature\n",
    "            pt_data[feature['id']] = feature\n",
    "\n",
    "    for key, val in pt_data.items():\n",
    "        # get coordinates\n",
    "        x, y = val['geometry']['coordinates'][0][0][0], val['geometry']['coordinates'][0][0][1]\n",
    "        id_n = '0_' + val['properties']['id_fn']\n",
    "        x_all.append(x)\n",
    "        y_all.append(y)\n",
    "        id_all.append(id_n)\n",
    "        \n",
    "    return(id_all, x_all, y_all)\n",
    "      #  pprint(id_n) "
   ]
  },
  {
   "cell_type": "code",
   "execution_count": 143,
   "metadata": {},
   "outputs": [],
   "source": [
    "ras = r'C:\\Users\\PAPAZ\\Downloads\\temp\\geo.tif'\n",
    "# my shapefile with two points which overlap raster area\n",
    "pts = r'C:\\Users\\PAPAZ\\Downloads\\temp\\drive-download-20181119T135750Z-001\\split_amz.shp'\n",
    "\n",
    "# call function\n",
    "id_n,x,y = raster_point_coords(ras, pts)"
   ]
  },
  {
   "cell_type": "code",
   "execution_count": 144,
   "metadata": {
    "collapsed": true
   },
   "outputs": [],
   "source": [
    "col_1 = pd.DataFrame(id_n)"
   ]
  },
  {
   "cell_type": "code",
   "execution_count": 145,
   "metadata": {
    "collapsed": true
   },
   "outputs": [],
   "source": [
    "col_1['1'] = x\n",
    "col_1['2'] = 0.0020833333\n",
    "col_1['3'] = 0\n",
    "col_1['4'] = y\n",
    "col_1['5'] = 0\n",
    "col_1['6'] = -0.0020833333\n",
    "col_1['7'] = 4326"
   ]
  },
  {
   "cell_type": "code",
   "execution_count": 146,
   "metadata": {
    "collapsed": true
   },
   "outputs": [],
   "source": [
    "col_1.to_csv(r\"F:\\acoca\\research\\gee\\dataset\\paper\\MOD09_250m500m\\gz\\384\\MCD12Q1v6\\geotransforms.csv\", index= None, header = None)"
   ]
  }
 ],
 "metadata": {
  "kernelspec": {
   "display_name": "Python [conda env:py36]",
   "language": "python",
   "name": "conda-env-py36-py"
  },
  "language_info": {
   "codemirror_mode": {
    "name": "ipython",
    "version": 3
   },
   "file_extension": ".py",
   "mimetype": "text/x-python",
   "name": "python",
   "nbconvert_exporter": "python",
   "pygments_lexer": "ipython3",
   "version": "3.6.4"
  }
 },
 "nbformat": 4,
 "nbformat_minor": 2
}
