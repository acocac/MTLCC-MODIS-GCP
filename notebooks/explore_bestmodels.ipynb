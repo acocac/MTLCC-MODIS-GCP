{
 "cells": [
  {
   "cell_type": "code",
   "execution_count": 3,
   "metadata": {},
   "outputs": [
    {
     "name": "stderr",
     "output_type": "stream",
     "text": [
      "C:\\Users\\PAPAZ\\AppData\\Local\\Continuum\\anaconda2\\envs\\py36\\lib\\site-packages\\sklearn\\externals\\joblib\\__init__.py:15: FutureWarning: sklearn.externals.joblib is deprecated in 0.21 and will be removed in 0.23. Please import this functionality directly from joblib, which can be installed with: pip install joblib. If this warning is raised when loading pickled models, you may need to re-serialize those models with scikit-learn 0.21+.\n",
      "  warnings.warn(msg, category=FutureWarning)\n",
      "C:\\Users\\PAPAZ\\AppData\\Local\\Continuum\\anaconda2\\envs\\py36\\lib\\site-packages\\tensorflow\\python\\framework\\dtypes.py:469: FutureWarning: Passing (type, 1) or '1type' as a synonym of type is deprecated; in a future version of numpy, it will be understood as (type, (1,)) / '(1,)type'.\n",
      "  _np_qint8 = np.dtype([(\"qint8\", np.int8, 1)])\n",
      "C:\\Users\\PAPAZ\\AppData\\Local\\Continuum\\anaconda2\\envs\\py36\\lib\\site-packages\\tensorflow\\python\\framework\\dtypes.py:470: FutureWarning: Passing (type, 1) or '1type' as a synonym of type is deprecated; in a future version of numpy, it will be understood as (type, (1,)) / '(1,)type'.\n",
      "  _np_quint8 = np.dtype([(\"quint8\", np.uint8, 1)])\n",
      "C:\\Users\\PAPAZ\\AppData\\Local\\Continuum\\anaconda2\\envs\\py36\\lib\\site-packages\\tensorflow\\python\\framework\\dtypes.py:471: FutureWarning: Passing (type, 1) or '1type' as a synonym of type is deprecated; in a future version of numpy, it will be understood as (type, (1,)) / '(1,)type'.\n",
      "  _np_qint16 = np.dtype([(\"qint16\", np.int16, 1)])\n",
      "C:\\Users\\PAPAZ\\AppData\\Local\\Continuum\\anaconda2\\envs\\py36\\lib\\site-packages\\tensorflow\\python\\framework\\dtypes.py:472: FutureWarning: Passing (type, 1) or '1type' as a synonym of type is deprecated; in a future version of numpy, it will be understood as (type, (1,)) / '(1,)type'.\n",
      "  _np_quint16 = np.dtype([(\"quint16\", np.uint16, 1)])\n",
      "C:\\Users\\PAPAZ\\AppData\\Local\\Continuum\\anaconda2\\envs\\py36\\lib\\site-packages\\tensorflow\\python\\framework\\dtypes.py:473: FutureWarning: Passing (type, 1) or '1type' as a synonym of type is deprecated; in a future version of numpy, it will be understood as (type, (1,)) / '(1,)type'.\n",
      "  _np_qint32 = np.dtype([(\"qint32\", np.int32, 1)])\n",
      "C:\\Users\\PAPAZ\\AppData\\Local\\Continuum\\anaconda2\\envs\\py36\\lib\\site-packages\\tensorflow\\python\\framework\\dtypes.py:476: FutureWarning: Passing (type, 1) or '1type' as a synonym of type is deprecated; in a future version of numpy, it will be understood as (type, (1,)) / '(1,)type'.\n",
      "  np_resource = np.dtype([(\"resource\", np.ubyte, 1)])\n"
     ]
    }
   ],
   "source": [
    "import os, sys\n",
    "import argparse\n",
    "\n",
    "from sklearn.externals import joblib\n",
    "\n",
    "from sklearn.ensemble import RandomForestClassifier\n",
    "from sklearn.svm import SVC\n",
    "\n",
    "from imblearn.pipeline import make_pipeline as make_pipeline_imb\n",
    "from imblearn import over_sampling, under_sampling\n",
    "from hyperopt import Trials\n",
    "import pickle as pkl\n",
    "import numpy as np\n",
    "\n",
    "import matplotlib.ticker as mtick"
   ]
  },
  {
   "cell_type": "code",
   "execution_count": 4,
   "metadata": {},
   "outputs": [],
   "source": [
    "def getBestModelfromTrials(trials, order, STATUS_OK):\n",
    "    valid_trial_list = [trial for trial in trials\n",
    "                        if STATUS_OK == trial['result']['status']]\n",
    "    losses = [ float(trial['result']['loss']) for trial in valid_trial_list]\n",
    "\n",
    "    index_having_minumum_sort = np.argsort(losses)\n",
    "    index_having_minumum_loss = index_having_minumum_sort[order-1]\n",
    "\n",
    "    best_trial_obj = valid_trial_list[index_having_minumum_loss]\n",
    "        \n",
    "    return best_trial_obj['misc']['vals'], losses[index_having_minumum_loss]"
   ]
  },
  {
   "cell_type": "code",
   "execution_count": 140,
   "metadata": {},
   "outputs": [],
   "source": [
    "trials = 25\n",
    "ssize = 3000\n",
    "model = 'SVM'\n",
    "dataset = 'MCD12Q1v6stable01to15_LCProp2_major'\n",
    "\n",
    "modeldir = r'E:\\acocac\\research\\AMZ\\models\\3_comparison\\{}_ssize{}_trials{}_trainon200120022003_{}'.format(model,ssize,trials,dataset)\n",
    "\n",
    "trials = pkl.load(\n",
    "    open(os.path.join(modeldir,'hpt','hyperopt_trials_niters{}_ssize{}.pkl'.format(trials,ssize)),\n",
    "         'rb'))"
   ]
  },
  {
   "cell_type": "code",
   "execution_count": 93,
   "metadata": {},
   "outputs": [],
   "source": [
    "STATUS_OK = 'ok'\n",
    "valid_trial_list = [trial for trial in trials.trials\n",
    "                if STATUS_OK == trial['result']['status']]\n",
    "losses = [ float(trial['result']['loss']) for trial in valid_trial_list]"
   ]
  },
  {
   "cell_type": "code",
   "execution_count": 96,
   "metadata": {},
   "outputs": [],
   "source": [
    "c_lim = (-2, 7)\n",
    "g_lim = (-2, 4)\n",
    "\n",
    "C_space = [10 ** exp for exp in range(*c_lim)]\n",
    "gamma_space =  [10**exp for exp in range(*g_lim)]"
   ]
  },
  {
   "cell_type": "code",
   "execution_count": 102,
   "metadata": {},
   "outputs": [
    {
     "data": {
      "text/plain": [
       "1000000"
      ]
     },
     "execution_count": 102,
     "metadata": {},
     "output_type": "execute_result"
    }
   ],
   "source": [
    "C_space[8]"
   ]
  },
  {
   "cell_type": "code",
   "execution_count": 141,
   "metadata": {},
   "outputs": [
    {
     "name": "stdout",
     "output_type": "stream",
     "text": [
      "0 {'C': [7], 'classifier_type': [0], 'gamma': [4], 'kernel': [0]} -0.13986666045037063\n",
      "1 {'C': [2], 'classifier_type': [0], 'gamma': [2], 'kernel': [0]} -0.7410291078061136\n",
      "2 {'C': [2], 'classifier_type': [0], 'gamma': [1], 'kernel': [0]} -0.7383250190374065\n",
      "3 {'C': [2], 'classifier_type': [0], 'gamma': [1], 'kernel': [0]} -0.7383250190374065\n",
      "4 {'C': [2], 'classifier_type': [0], 'gamma': [1], 'kernel': [0]} -0.7383250190374065\n",
      "5 {'C': [8], 'classifier_type': [0], 'gamma': [2], 'kernel': [0]} -0.711672649851586\n",
      "6 {'C': [8], 'classifier_type': [0], 'gamma': [2], 'kernel': [0]} -0.711672649851586\n",
      "7 {'C': [1], 'classifier_type': [0], 'gamma': [2], 'kernel': [0]} -0.7080050351997761\n"
     ]
    }
   ],
   "source": [
    "parameters = ['bootstrap', 'classifier_type', 'max_depth', 'max_features', 'min_samples_leaf', 'min_samples_split','n_estimators']\n",
    "\n",
    "for i in range(0,8):\n",
    "    bm, l = getBestModelfromTrials(trials, i, STATUS_OK)\n",
    "    print(i, bm, l)"
   ]
  },
  {
   "cell_type": "code",
   "execution_count": 34,
   "metadata": {},
   "outputs": [
    {
     "name": "stdout",
     "output_type": "stream",
     "text": [
      "Pipeline(memory=None,\n",
      "         steps=[('randomoversampler',\n",
      "                 RandomOverSampler(random_state=42, sampling_strategy='auto')),\n",
      "                ('svc',\n",
      "                 SVC(C=1, break_ties=False, cache_size=200, class_weight=None,\n",
      "                     coef0=0.0, decision_function_shape='ovr', degree=3,\n",
      "                     gamma=0.1, kernel='rbf', max_iter=-1, probability=False,\n",
      "                     random_state=None, shrinking=True, tol=0.001,\n",
      "                     verbose=1))],\n",
      "         verbose=False)\n",
      "Pipeline(memory=None,\n",
      "         steps=[('randomoversampler',\n",
      "                 RandomOverSampler(random_state=42, sampling_strategy='auto')),\n",
      "                ('svc',\n",
      "                 SVC(C=1, break_ties=False, cache_size=200, class_weight=None,\n",
      "                     coef0=0.0, decision_function_shape='ovr', degree=3,\n",
      "                     gamma=0.1, kernel='rbf', max_iter=-1, probability=False,\n",
      "                     random_state=None, shrinking=True, tol=0.001,\n",
      "                     verbose=1))],\n",
      "         verbose=False)\n",
      "Pipeline(memory=None,\n",
      "         steps=[('randomoversampler',\n",
      "                 RandomOverSampler(random_state=42, sampling_strategy='auto')),\n",
      "                ('svc',\n",
      "                 SVC(C=1, break_ties=False, cache_size=200, class_weight=None,\n",
      "                     coef0=0.0, decision_function_shape='ovr', degree=3,\n",
      "                     gamma=0.1, kernel='rbf', max_iter=-1, probability=False,\n",
      "                     random_state=None, shrinking=True, tol=0.001,\n",
      "                     verbose=1))],\n",
      "         verbose=False)\n"
     ]
    }
   ],
   "source": [
    "bm_dir = r'E:\\acocac\\research\\AMZ\\models\\3_comparison\\SVM_ssize3000_trials25_trainon200120022003_MCD12Q1v6stable01to03_LCProp2_major\\models'\n",
    "\n",
    "for i in range(3):\n",
    "    model = joblib.load(os.path.join(bm_dir, 'model-SVM_bm{}.h5'.format(i+1)))\n",
    "    print(model)"
   ]
  },
  {
   "cell_type": "code",
   "execution_count": 12,
   "metadata": {},
   "outputs": [],
   "source": [
    "ntrials = 100\n",
    "ssize = 3000\n",
    "model = 'RF'\n",
    "datasets = ['MCD12Q1v6stable01to15_LCProp2_major']"
   ]
  },
  {
   "cell_type": "code",
   "execution_count": 13,
   "metadata": {},
   "outputs": [
    {
     "data": {
      "text/plain": [
       "Text(0.07, 0.5, 'Overall Accuracy (OA) [0 - 1]')"
      ]
     },
     "execution_count": 13,
     "metadata": {},
     "output_type": "execute_result"
    },
    {
     "data": {
      "image/png": "[encoded data removed]",
      "text/plain": [
       "<Figure size 864x504 with 6 Axes>"
      ]
     },
     "metadata": {
      "needs_background": "light"
     },
     "output_type": "display_data"
    }
   ],
   "source": [
    "import matplotlib.pyplot as plt \n",
    "\n",
    "parameters = ['n_estimators', 'max_features', 'max_depth', 'min_samples_split',  'min_samples_leaf', 'bootstrap']\n",
    "titles = ['Number of trees', 'Max features', 'Max depth', 'Min samples split', 'Min samples leaf node','Bootstrap']\n",
    "f, ax = plt.subplots(nrows=2, ncols=3, figsize=(12,7))\n",
    "axes = ax.flatten()\n",
    "\n",
    "cmap = plt.cm.jet\n",
    "for i, val in enumerate(parameters):\n",
    "    for d in datasets:\n",
    "        modeldir = r'E:\\acocac\\research\\AMZ\\models\\3_comparison\\{}_ssize{}_trials{}_trainon200120022003_{}'.format(model,ssize,ntrials,d)\n",
    "        trials = pkl.load(\n",
    "        open(os.path.join(modeldir,'hpt','hyperopt_trials_niters{}_ssize{}.pkl'.format(ntrials,ssize)),\n",
    "             'rb'))\n",
    "\n",
    "        xs = np.array([t['misc']['vals'][val] for t in trials.trials]).ravel()\n",
    "        ys = [-t['result']['loss'] for t in trials.trials]\n",
    "        xs, ys = zip(*sorted(zip(xs, ys)))\n",
    "        ys = np.array(ys)\n",
    "        \n",
    "        if d == 'MCD12Q1v6stable01to03_LCProp2_major':\n",
    "            col = 'red'\n",
    "        elif d == 'MCD12Q1v6stable01to15_LCProp2_major':\n",
    "            col = 'black'\n",
    "            \n",
    "        axes[i].scatter(xs, ys, s=20, linewidth=0.01, alpha=0.3, c=col)\n",
    "        axes[i].set_title(titles[i])\n",
    "        axes[i].set_ylim([0.7,0.8])\n",
    "\n",
    "        if val == 'n_estimators':\n",
    "            axes[i].xaxis.set_ticks(np.arange(0, 2001, 500))   \n",
    "        elif val == 'bootstrap':\n",
    "            l = [0,1]\n",
    "            x = ['True', 'False']\n",
    "            axes[i].set_xticks(l)\n",
    "            axes[i].set_xticklabels(x)\n",
    "        elif val == 'max_features':\n",
    "            l = [0,1]\n",
    "            x = ['auto', 'sqrt']\n",
    "            axes[i].set_xticks(l)\n",
    "            axes[i].set_xticklabels(x)\n",
    "        elif val == 'max_depth':\n",
    "            axes[i].xaxis.set_ticks(np.arange(10, 111, 10))   \n",
    "        elif val == 'min_samples_split':\n",
    "            axes[i].xaxis.set_ticks(np.arange(2, 11, 1))\n",
    "        elif val == 'min_samples_split':\n",
    "            axes[i].xaxis.set_ticks(np.arange(2, 11, 1))    \n",
    "\n",
    "f.text(0.15,0.95, '(a) Random Forest', ha='center', va='center', size='x-large')\n",
    "f.text(0.07,0.5, 'Overall Accuracy (OA) [0 - 1]', ha='center', va='center', rotation='vertical', size='x-large')"
   ]
  },
  {
   "cell_type": "code",
   "execution_count": 14,
   "metadata": {},
   "outputs": [],
   "source": [
    "ntrials = 25\n",
    "ssize = 3000\n",
    "model = 'SVM'\n",
    "datasets = ['MCD12Q1v6stable01to15_LCProp2_major']"
   ]
  },
  {
   "cell_type": "code",
   "execution_count": 18,
   "metadata": {},
   "outputs": [
    {
     "data": {
      "text/plain": [
       "Text(0.07, 0.5, 'Overall Accuracy (OA) [0 - 1]')"
      ]
     },
     "execution_count": 18,
     "metadata": {},
     "output_type": "execute_result"
    },
    {
     "data": {
      "image/png": "[encoded data removed]",
      "text/plain": [
       "<Figure size 720x180 with 2 Axes>"
      ]
     },
     "metadata": {
      "needs_background": "light"
     },
     "output_type": "display_data"
    }
   ],
   "source": [
    "c_lim = (-2, 7)\n",
    "g_lim = (-2, 4)\n",
    "\n",
    "C_space = [10 ** exp for exp in range(*c_lim)]\n",
    "gamma_space =  [10**exp for exp in range(*g_lim)]\n",
    "\n",
    "parameters = ['C', 'gamma']\n",
    "cols = len(parameters)\n",
    "f, ax = plt.subplots(nrows=1, ncols=2, figsize=(10,2.5))\n",
    "axes = ax.flatten()\n",
    "for i, val in enumerate(parameters):\n",
    "    for d in datasets:\n",
    "        modeldir = r'E:\\acocac\\research\\AMZ\\models\\3_comparison\\{}_ssize{}_trials{}_trainon200120022003_{}'.format(model,ssize,ntrials,d)\n",
    "        trials = pkl.load(\n",
    "        open(os.path.join(modeldir,'hpt','hyperopt_trials_niters{}_ssize{}.pkl'.format(ntrials,ssize)),\n",
    "             'rb'))\n",
    "\n",
    "        xs = np.array([t['misc']['vals'][val] for t in trials.trials]).ravel()\n",
    "        ys = [-t['result']['loss'] for t in trials.trials]\n",
    "        xs, ys = zip(*sorted(zip(xs, ys)))\n",
    "        ys = np.array(ys)\n",
    "\n",
    "        if d == 'MCD12Q1v6stable01to03_LCProp2_major':\n",
    "            col = 'red'\n",
    "        elif d == 'MCD12Q1v6stable01to15_LCProp2_major':\n",
    "            col = 'black'\n",
    "\n",
    "        axes[i].scatter(xs, ys, s=20, linewidth=0.01, alpha=0.3, c=col)\n",
    "        axes[i].set_title(val)\n",
    "        axes[i].set_ylim([0,1])\n",
    "        \n",
    "        if val == 'C':\n",
    "            l = range(0,9)\n",
    "            x = C_space\n",
    "            axes[i].set_xticks(l)\n",
    "            axes[i].set_xticklabels(x)\n",
    "#             axes[i].xaxis.set_major_formatter(mtick.FormatStrFormatter('%.1e'))\n",
    "            for tick in axes[i].get_xticklabels():\n",
    "                tick.set_rotation(45)\n",
    "        elif val == 'gamma':\n",
    "            l = range(0,6)\n",
    "            x = gamma_space\n",
    "            axes[i].set_xticks(l)\n",
    "            axes[i].set_xticklabels(x)\n",
    "            \n",
    "f.text(0.15,1.10, '(b) Support Vector Machine', ha='center', va='center', size='large')\n",
    "f.text(0.07,0.5, 'Overall Accuracy (OA) [0 - 1]', ha='center', va='center', rotation='vertical', size='large')"
   ]
  },
  {
   "cell_type": "code",
   "execution_count": 10,
   "metadata": {},
   "outputs": [
    {
     "data": {
      "image/png": "[encoded data removed]",
      "text/plain": [
       "<Figure size 432x288 with 1 Axes>"
      ]
     },
     "metadata": {
      "needs_background": "light"
     },
     "output_type": "display_data"
    }
   ],
   "source": [
    "import numpy as np\n",
    "import matplotlib.pyplot as plt \n",
    "import os\n",
    "\n",
    "colors = ['black']\n",
    "labels = ['Trials trained using 2001-2015 MODIS FAO-LCCS2']\n",
    "\n",
    "f = lambda m,c: plt.plot([],[],marker='o', color=c, ls=\"none\")[0]\n",
    "handles = [f(\"s\", colors[i]) for i in range(len(colors))]\n",
    "# legend = plt.legend(handles, labels, loc=5, framealpha=1, frameon=False)\n",
    "legend = plt.legend(bbox_to_anchor=(0.5, -1.5), handletextpad=0.001, frameon=False, loc='lower center', borderaxespad=0., labels = labels, ncol=4, fontsize='xx-large')\n",
    "\n",
    "def export_legend(legend, filename=os.path.join(r'E:\\acocac\\research\\AMZ\\img\\legend_hyperopt.png'), expand=[-5,-5,5,5]):\n",
    "    fig  = legend.figure\n",
    "    fig.canvas.draw()\n",
    "    bbox  = legend.get_window_extent()\n",
    "    bbox = bbox.from_extents(*(bbox.extents + np.array(expand)))\n",
    "    bbox = bbox.transformed(fig.dpi_scale_trans.inverted())\n",
    "    fig.savefig(filename, dpi=\"figure\", bbox_inches=bbox)\n",
    "\n",
    "export_legend(legend)\n",
    "plt.show()"
   ]
  }
 ],
 "metadata": {
  "kernelspec": {
   "display_name": "Python [conda env:py36] *",
   "language": "python",
   "name": "conda-env-py36-py"
  },
  "language_info": {
   "codemirror_mode": {
    "name": "ipython",
    "version": 3
   },
   "file_extension": ".py",
   "mimetype": "text/x-python",
   "name": "python",
   "nbconvert_exporter": "python",
   "pygments_lexer": "ipython3",
   "version": "3.6.10"
  }
 },
 "nbformat": 4,
 "nbformat_minor": 2
}
