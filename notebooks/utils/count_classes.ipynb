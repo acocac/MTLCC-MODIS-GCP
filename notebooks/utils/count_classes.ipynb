{
 "cells": [
  {
   "cell_type": "code",
   "execution_count": 2,
   "metadata": {},
   "outputs": [],
   "source": [
    "class classes:\n",
    "    classes_MCD12Q1v6LCProp2 = {0: 'No data',  1: 'Barren',\n",
    "     2: 'Permanent Snow and Ice',\n",
    "     3: 'Water Bodies',\n",
    "     4: 'Urban and Built-up Lands',\n",
    "     5: 'Dense Forests',\n",
    "     6: 'Open Forests',\n",
    "     7: 'Forest/Cropland Mosaics',\n",
    "     8: 'Natural Herbaceous',\n",
    "     9: 'Natural Herbaceous-Croplands Mosaics',\n",
    "     10: 'Herbaceous Croplands',\n",
    "     11: 'Shrublands'}\n",
    "\n",
    "    classes_MCD12Q1v6LCProp2_major = {\n",
    "     0: 'No data',  \n",
    "     1: 'Barren',\n",
    "     2: 'Water Bodies',\n",
    "     3: 'Urban and Built-up Lands',\n",
    "     4: 'Dense Forests',\n",
    "     5: 'Open Forests',\n",
    "     6: 'Natural Herbaceous',\n",
    "     7: 'Herbaceous Croplands',\n",
    "     8: 'Shrublands'}"
   ]
  },
  {
   "cell_type": "code",
   "execution_count": 3,
   "metadata": {},
   "outputs": [],
   "source": [
    "import numpy as np\n",
    "import os\n",
    "import pandas as pd"
   ]
  },
  {
   "cell_type": "code",
   "execution_count": 4,
   "metadata": {},
   "outputs": [],
   "source": [
    "ps_train = 24\n",
    "ps_eval = 384\n",
    "project = \"AMZ\""
   ]
  },
  {
   "cell_type": "code",
   "execution_count": 27,
   "metadata": {},
   "outputs": [],
   "source": [
    "indir = r\"F:\\acoca\\research\\gee\\dataset\\{}\\gz\\{}\\multiple\\tileids\".format(project, ps_train)\n",
    "\n",
    "traintiles = np.loadtxt(os.path.join(indir,\"train_fold0.tileids\"), dtype='str')\n",
    "testtiles = np.loadtxt(os.path.join(indir,\"test_fold0.tileids\"), dtype='str')"
   ]
  },
  {
   "cell_type": "code",
   "execution_count": 5,
   "metadata": {},
   "outputs": [],
   "source": [
    "indir = r\"F:\\acoca\\research\\gee\\dataset\\{}\\gz\\{}\\multiple\\tileids\".format(project,ps_eval)\n",
    "\n",
    "evaltiles = np.loadtxt(os.path.join(indir,\"eval.tileids\"), dtype='str')"
   ]
  },
  {
   "cell_type": "code",
   "execution_count": 6,
   "metadata": {},
   "outputs": [],
   "source": [
    "def count_split(tiles, indir, reference):\n",
    "    label_all = []\n",
    "    tilesid=tiles\n",
    "    for i in range(1, 2):\n",
    "        indir_y = os.path.join(indir,\"data\"+str(i).zfill(2),reference)\n",
    "        \n",
    "        if len(tilesid.flatten()) > 1:\n",
    "            label_y = []\n",
    "\n",
    "            for f in range(0,len(tilesid)):\n",
    "                    filename = os.path.join(indir_y,tilesid[f]+\".npy\")\n",
    "                    labels__ = np.load(filename)\n",
    "                    label_y = np.append(label_y,labels__)\n",
    "\n",
    "            label_all.append(label_y)\n",
    "        else:\n",
    "            filename = os.path.join(indir_y,\"{}.npy\".format(tilesid))\n",
    "            label_all = np.load(filename)\n",
    "\n",
    "    return(label_all)"
   ]
  },
  {
   "cell_type": "code",
   "execution_count": 34,
   "metadata": {},
   "outputs": [],
   "source": [
    "classdir = r\"F:\\acoca\\research\\gee\\dataset\\{}\\gz\\{}\\multiple\\classes\".format(project,ps_train)\n",
    "classdir_eval = r\"F:\\acoca\\research\\gee\\dataset\\{}\\gz\\{}\\multiple\\classes\".format(project,ps_eval)\n",
    "\n",
    "scheme_clas = 'MCD12Q1v6stable01to03_LCProp2'\n",
    "\n",
    "train_all = count_split(traintiles, classdir,scheme_clas)\n",
    "test_all = count_split(testtiles, classdir,scheme_clas)\n",
    "eval_all = count_split(evaltiles, classdir_eval,scheme_clas)"
   ]
  },
  {
   "cell_type": "code",
   "execution_count": 35,
   "metadata": {},
   "outputs": [],
   "source": [
    "d_train = pd.Series(train_all[0])\n",
    "d_test = pd.Series(test_all[0])\n",
    "if len(eval_all) == 1:\n",
    "    d_eval = pd.Series(eval_all[0])\n",
    "else:\n",
    "    d_eval = pd.Series(eval_all)"
   ]
  },
  {
   "cell_type": "code",
   "execution_count": 36,
   "metadata": {},
   "outputs": [],
   "source": [
    "vc_train = d_train.value_counts(normalize=False)\n",
    "vc_test = d_test.value_counts(normalize=False)\n",
    "vc_eval = d_eval.value_counts(normalize=False)"
   ]
  },
  {
   "cell_type": "code",
   "execution_count": 37,
   "metadata": {},
   "outputs": [
    {
     "data": {
      "text/html": [
       "<div>\n",
       "<style scoped>\n",
       "    .dataframe tbody tr th:only-of-type {\n",
       "        vertical-align: middle;\n",
       "    }\n",
       "\n",
       "    .dataframe tbody tr th {\n",
       "        vertical-align: top;\n",
       "    }\n",
       "\n",
       "    .dataframe thead th {\n",
       "        text-align: right;\n",
       "    }\n",
       "</style>\n",
       "<table border=\"1\" class=\"dataframe\">\n",
       "  <thead>\n",
       "    <tr style=\"text-align: right;\">\n",
       "      <th></th>\n",
       "      <th>train</th>\n",
       "      <th>test</th>\n",
       "      <th>evaluation</th>\n",
       "      <th>class_id</th>\n",
       "      <th>class</th>\n",
       "    </tr>\n",
       "  </thead>\n",
       "  <tbody>\n",
       "    <tr>\n",
       "      <th>0.0</th>\n",
       "      <td>1197903</td>\n",
       "      <td>297738</td>\n",
       "      <td>301821.0</td>\n",
       "      <td>0.0</td>\n",
       "      <td>No data</td>\n",
       "    </tr>\n",
       "    <tr>\n",
       "      <th>1.0</th>\n",
       "      <td>1496</td>\n",
       "      <td>419</td>\n",
       "      <td>5638.0</td>\n",
       "      <td>1.0</td>\n",
       "      <td>Barren</td>\n",
       "    </tr>\n",
       "    <tr>\n",
       "      <th>3.0</th>\n",
       "      <td>414713</td>\n",
       "      <td>31937</td>\n",
       "      <td>105778.0</td>\n",
       "      <td>3.0</td>\n",
       "      <td>Water Bodies</td>\n",
       "    </tr>\n",
       "    <tr>\n",
       "      <th>4.0</th>\n",
       "      <td>36053</td>\n",
       "      <td>5126</td>\n",
       "      <td>10385.0</td>\n",
       "      <td>4.0</td>\n",
       "      <td>Urban and Built-up Lands</td>\n",
       "    </tr>\n",
       "    <tr>\n",
       "      <th>5.0</th>\n",
       "      <td>9544127</td>\n",
       "      <td>2863624</td>\n",
       "      <td>2258208.0</td>\n",
       "      <td>5.0</td>\n",
       "      <td>Dense Forests</td>\n",
       "    </tr>\n",
       "    <tr>\n",
       "      <th>6.0</th>\n",
       "      <td>10402607</td>\n",
       "      <td>2236594</td>\n",
       "      <td>2719307.0</td>\n",
       "      <td>6.0</td>\n",
       "      <td>Open Forests</td>\n",
       "    </tr>\n",
       "    <tr>\n",
       "      <th>7.0</th>\n",
       "      <td>13900</td>\n",
       "      <td>2689</td>\n",
       "      <td>4996.0</td>\n",
       "      <td>7.0</td>\n",
       "      <td>Forest/Cropland Mosaics</td>\n",
       "    </tr>\n",
       "    <tr>\n",
       "      <th>8.0</th>\n",
       "      <td>4079986</td>\n",
       "      <td>1070221</td>\n",
       "      <td>1138952.0</td>\n",
       "      <td>8.0</td>\n",
       "      <td>Natural Herbaceous</td>\n",
       "    </tr>\n",
       "    <tr>\n",
       "      <th>9.0</th>\n",
       "      <td>17</td>\n",
       "      <td>4</td>\n",
       "      <td>NaN</td>\n",
       "      <td>9.0</td>\n",
       "      <td>Natural Herbaceous-Croplands Mosaics</td>\n",
       "    </tr>\n",
       "    <tr>\n",
       "      <th>10.0</th>\n",
       "      <td>385873</td>\n",
       "      <td>126161</td>\n",
       "      <td>85597.0</td>\n",
       "      <td>10.0</td>\n",
       "      <td>Herbaceous Croplands</td>\n",
       "    </tr>\n",
       "    <tr>\n",
       "      <th>11.0</th>\n",
       "      <td>23037</td>\n",
       "      <td>1007</td>\n",
       "      <td>4838.0</td>\n",
       "      <td>11.0</td>\n",
       "      <td>Shrublands</td>\n",
       "    </tr>\n",
       "  </tbody>\n",
       "</table>\n",
       "</div>"
      ],
      "text/plain": [
       "         train     test  evaluation  class_id  \\\n",
       "0.0    1197903   297738    301821.0       0.0   \n",
       "1.0       1496      419      5638.0       1.0   \n",
       "3.0     414713    31937    105778.0       3.0   \n",
       "4.0      36053     5126     10385.0       4.0   \n",
       "5.0    9544127  2863624   2258208.0       5.0   \n",
       "6.0   10402607  2236594   2719307.0       6.0   \n",
       "7.0      13900     2689      4996.0       7.0   \n",
       "8.0    4079986  1070221   1138952.0       8.0   \n",
       "9.0         17        4         NaN       9.0   \n",
       "10.0    385873   126161     85597.0      10.0   \n",
       "11.0     23037     1007      4838.0      11.0   \n",
       "\n",
       "                                     class  \n",
       "0.0                                No data  \n",
       "1.0                                 Barren  \n",
       "3.0                           Water Bodies  \n",
       "4.0               Urban and Built-up Lands  \n",
       "5.0                          Dense Forests  \n",
       "6.0                           Open Forests  \n",
       "7.0                Forest/Cropland Mosaics  \n",
       "8.0                     Natural Herbaceous  \n",
       "9.0   Natural Herbaceous-Croplands Mosaics  \n",
       "10.0                  Herbaceous Croplands  \n",
       "11.0                            Shrublands  "
      ]
     },
     "execution_count": 37,
     "metadata": {},
     "output_type": "execute_result"
    }
   ],
   "source": [
    "all_data = pd.concat((vc_train,vc_test,vc_eval), axis=1)\n",
    "all_data = all_data.rename(columns={0: 'train', 1: 'test', 2: 'evaluation'})\n",
    "all_data['class_id'] = all_data.index\n",
    "all_data['class'] = all_data['class_id'].map(classes.classes_MCD12Q1v6LCProp2)\n",
    "all_data"
   ]
  },
  {
   "cell_type": "heading",
   "metadata": {},
   "level": 1,
   "source": [
    "return weights"
   ]
  },
  {
   "cell_type": "code",
   "execution_count": 107,
   "metadata": {},
   "outputs": [],
   "source": [
    "#remove non-reliable\n",
    "newarray = [x -1 for x in train_all[0]]\n",
    "newarray = [x for x in newarray if x != -1]"
   ]
  },
  {
   "cell_type": "code",
   "execution_count": 108,
   "metadata": {},
   "outputs": [],
   "source": [
    "category_train = np.array(newarray)\n",
    "n_classes=8\n",
    "import math\n",
    "from collections import Counter\n",
    "counts = Counter(category_train)\n",
    "weightsArray =[]\n",
    "for i in range(n_classes):\n",
    "    weightsArray.append(math.log(category_train.shape[0]/max(counts[i],1))+1)"
   ]
  },
  {
   "cell_type": "code",
   "execution_count": 109,
   "metadata": {},
   "outputs": [
    {
     "data": {
      "text/plain": [
       "[12.566200793829088,\n",
       " 12.566200793829088,\n",
       " 8.159481546564836,\n",
       " 9.793612071589308,\n",
       " 1.1665112184715174,\n",
       " 3.4213594040856017,\n",
       " 12.566200793829088,\n",
       " 3.7542506162891085]"
      ]
     },
     "execution_count": 109,
     "metadata": {},
     "output_type": "execute_result"
    }
   ],
   "source": [
    "weightsArray"
   ]
  }
 ],
 "metadata": {
  "kernelspec": {
   "display_name": "Python [conda env:py36] *",
   "language": "python",
   "name": "conda-env-py36-py"
  },
  "language_info": {
   "codemirror_mode": {
    "name": "ipython",
    "version": 3
   },
   "file_extension": ".py",
   "mimetype": "text/x-python",
   "name": "python",
   "nbconvert_exporter": "python",
   "pygments_lexer": "ipython3",
   "version": "3.6.10"
  }
 },
 "nbformat": 4,
 "nbformat_minor": 4
}
