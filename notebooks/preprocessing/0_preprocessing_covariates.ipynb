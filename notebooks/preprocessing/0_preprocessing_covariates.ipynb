{
 "cells": [
  {
   "cell_type": "code",
   "execution_count": 1,
   "metadata": {},
   "outputs": [],
   "source": [
    "import matplotlib.pyplot as plt\n",
    "import matplotlib.image as mpimg\n",
    "from matplotlib import gridspec\n",
    "import os\n",
    "import numpy as np"
   ]
  },
  {
   "cell_type": "code",
   "execution_count": 2,
   "metadata": {},
   "outputs": [],
   "source": [
    "import rasterio\n",
    "import matplotlib \n",
    "import matplotlib.pyplot as plt\n",
    "from collections import Counter\n",
    "import fiona\n",
    "from rasterio.mask import mask\n",
    "import geopandas as gpd\n",
    "import matplotlib as mpl"
   ]
  },
  {
   "cell_type": "code",
   "execution_count": 3,
   "metadata": {},
   "outputs": [],
   "source": [
    "import rasterio.features\n",
    "from affine import Affine\n",
    "from shapely.geometry import shape"
   ]
  },
  {
   "cell_type": "code",
   "execution_count": 4,
   "metadata": {},
   "outputs": [],
   "source": [
    "def read_file(raster_file, aoi_file):\n",
    "    with fiona.open(aoi_file, 'r') as vector, \\\n",
    "            rasterio.open(raster_file, 'r') as raster:\n",
    "        \n",
    "        aoi_viz = gpd.read_file(aoi_file)\n",
    "\n",
    "        # read the subset of the data into a numpy array\n",
    "#             window = ((lr[0], ul[0]+1), (ul[1], lr[1]+1))\n",
    "        data = raster.read(1, window=aoi_viz.total_bounds[[0,2,1,3]])\n",
    "\n",
    "        # create an affine transform for the subset data\n",
    "        t = raster.transform\n",
    "        shifted_affine = Affine(t.a, t.b, t.c+ul[1]*t.a, t.d, t.e, t.f+lr[0]*t.e)\n",
    "\n",
    "        # rasterize the geometry\n",
    "        mask = rasterio.features.rasterize(\n",
    "            [(geometry, 0)],\n",
    "            out_shape=data.shape,\n",
    "            transform=shifted_affine,\n",
    "            fill=1,\n",
    "            all_touched=True,\n",
    "            dtype=np.uint8)\n",
    "\n",
    "        masked_data = np.ma.array(data=data, mask=mask.astype(bool))\n",
    "\n",
    "        return masked_data"
   ]
  },
  {
   "cell_type": "code",
   "execution_count": 5,
   "metadata": {},
   "outputs": [],
   "source": [
    "def read_file(raster_file, aoi_file):\n",
    "    with fiona.open(aoi_file, 'r') as vector, \\\n",
    "            rasterio.open(raster_file, 'r') as raster:\n",
    "        \n",
    "        for feature in vector:\n",
    "            # create a shapely geometry\n",
    "            # this is done for the convenience for the .bounds property only\n",
    "            geometry = shape(feature['geometry'])\n",
    "\n",
    "            # get pixel coordinates of the geometry's bounding box\n",
    "            ul = raster.index(*geometry.bounds[0:2])\n",
    "            lr = raster.index(*geometry.bounds[2:4])\n",
    "\n",
    "            # read the subset of the data into a numpy array\n",
    "            window = ((lr[0], ul[0]+1), (ul[1], lr[1]+1))\n",
    "            print(window)\n",
    "            data = raster.read(1, window=window)\n",
    "\n",
    "            # create an affine transform for the subset data\n",
    "            t = raster.transform\n",
    "            shifted_affine = Affine(t.a, t.b, t.c+ul[1]*t.a, t.d, t.e, t.f+lr[0]*t.e)\n",
    "\n",
    "            # rasterize the geometry\n",
    "            mask = rasterio.features.rasterize(\n",
    "                [(geometry, 0)],\n",
    "                out_shape=data.shape,\n",
    "                transform=shifted_affine,\n",
    "                fill=1,\n",
    "                all_touched=True,\n",
    "                dtype=np.uint8)\n",
    "        \n",
    "            masked_data = np.ma.array(data=data, mask=mask.astype(bool))\n",
    "\n",
    "            return masked_data"
   ]
  },
  {
   "cell_type": "code",
   "execution_count": 6,
   "metadata": {},
   "outputs": [],
   "source": [
    "def read_file(raster, masked):\n",
    "    with rasterio.open(raster) as src:\n",
    "        out_image = src.read(1)\n",
    "        masked_data = np.ma.array(data=out_image, mask=masked.astype(bool))\n",
    "        return masked_data"
   ]
  },
  {
   "cell_type": "code",
   "execution_count": 7,
   "metadata": {},
   "outputs": [],
   "source": [
    "def read_file(raster, shape):\n",
    "    with rasterio.open(raster) as src:\n",
    "        out_image, out_transform = mask(src, shape, crop=True)\n",
    "        out_image = out_image.astype(np.float32)\n",
    "        out_image[out_image<-3e+38] = np.nan\n",
    "        out_image = out_image.squeeze()\n",
    "        return out_image"
   ]
  },
  {
   "cell_type": "code",
   "execution_count": 8,
   "metadata": {},
   "outputs": [],
   "source": [
    "def read_file_int(raster, shape):\n",
    "    with rasterio.open(raster) as src:\n",
    "        out_image, out_transform = mask(src, shape, crop=True)\n",
    "        out_image = out_image.astype(np.float32)\n",
    "        out_image[out_image>2e+09] = np.nan\n",
    "        out_image = out_image.squeeze()\n",
    "        return out_image"
   ]
  },
  {
   "cell_type": "code",
   "execution_count": 9,
   "metadata": {},
   "outputs": [],
   "source": [
    "def read_file(raster, shape):\n",
    "    with rasterio.open(raster) as src:\n",
    "        out_image, out_transform = mask(src, shape, crop=True)\n",
    "        out_image = out_image.astype(np.float32)\n",
    "        out_image[out_image<-3e+38] = np.nan\n",
    "        out_image = out_image.squeeze()\n",
    "        return out_image"
   ]
  },
  {
   "cell_type": "code",
   "execution_count": 10,
   "metadata": {},
   "outputs": [],
   "source": [
    "def read_file_int(raster, shape):\n",
    "    with rasterio.open(raster) as src:\n",
    "        out_image, out_transform = mask(src, shape, crop=True)\n",
    "        out_image = out_image.astype(np.float32)\n",
    "        out_image[out_image<-9000] = np.nan\n",
    "        out_image = out_image.squeeze()\n",
    "        return out_image"
   ]
  },
  {
   "cell_type": "code",
   "execution_count": 14,
   "metadata": {},
   "outputs": [
    {
     "name": "stderr",
     "output_type": "stream",
     "text": [
      "C:\\Users\\PAPAZ\\AppData\\Local\\Continuum\\anaconda2\\envs\\geothesis\\lib\\site-packages\\ipykernel_launcher.py:5: RuntimeWarning: invalid value encountered in less\n",
      "  \"\"\"\n"
     ]
    }
   ],
   "source": [
    "indir = os.path.join(r'F:\\acoca\\research\\gee\\dataset\\AMZ\\implementation')\n",
    "outdir = r'E:\\acocac\\research\\AMZ\\img\\c6\\ancillary'\n",
    "\n",
    "aoi_file = os.path.join(indir, 'aoi', 'amazon_raisg.shp')\n",
    "aoi_viz = gpd.read_file(aoi_file)\n",
    "\n",
    "# ref_raster = os.path.join(indir, 'ancillary', 'gee', 'access.tif')\n",
    "# aoi = maskvector(aoi_file, ref_raster)\n",
    "\n",
    "# read files\n",
    "with fiona.open(aoi_file, \"r\") as shapefile:\n",
    "    aoi = [feature[\"geometry\"] for feature in shapefile]\n",
    "    \n",
    "access = read_file_int(os.path.join(indir, 'ancillary', 'processed', 'external', 'access.tif'), aoi)\n",
    "elevation = read_file_int(os.path.join(indir, 'ancillary', 'processed', 'external', 'srtm.tif'), aoi)\n",
    "slope = read_file(os.path.join(indir, 'ancillary', 'processed', 'external', 'slope.tif'), aoi)\n",
    "prec = read_file(os.path.join(indir, 'ancillary', 'processed', 'external', 'bio12.tif'), aoi)\n",
    "pas_conservation = read_file_int(os.path.join(indir, 'ancillary', 'processed', 'external', 'distance_PAs_conservation_AMZ.tif'), aoi)\n",
    "pas_exploitation = read_file_int(os.path.join(indir, 'ancillary', 'processed', 'external', 'distance_PAs_exploitation_AMZ.tif'), aoi)"
   ]
  },
  {
   "cell_type": "code",
   "execution_count": null,
   "metadata": {},
   "outputs": [],
   "source": [
    "magma_cmap = matplotlib.cm.get_cmap('magma')"
   ]
  },
  {
   "cell_type": "code",
   "execution_count": null,
   "metadata": {},
   "outputs": [],
   "source": [
    "gs0 = gridspec.GridSpec(3, 2,  hspace=0.3, wspace=0.05, height_ratios= [1, 1, 1])\n",
    "arrays_l1 = [access, elevation, slope, prec, pas_conservation, pas_exploitation]\n",
    "\n",
    "fig = plt.figure(figsize=(12, 15), constrained_layout=False)\n",
    "for i, arr in enumerate(arrays_l1):\n",
    "    if i == 0:\n",
    "        ax00 = fig.add_subplot(gs0[0, 0])\n",
    "        ax00.set_title('\\n Accesibility (days) \\n', fontsize='x-large')\n",
    "        arr = arr/(60*24)\n",
    "        format_bar = \"%.1f\"\n",
    "    else:\n",
    "        if i == 1:\n",
    "            ax00 = fig.add_subplot(gs0[0, 1])\n",
    "            ax00.set_title('\\n Elevation (meters) \\n', fontsize='x-large')\n",
    "        elif i == 2:\n",
    "            ax00 = fig.add_subplot(gs0[1, 0])\n",
    "            ax00.set_title('\\n Slope (angle) \\n', fontsize='x-large')\n",
    "        elif i == 3:\n",
    "            ax00 = fig.add_subplot(gs0[1, 1])\n",
    "            ax00.set_title('\\n Precipitation (milimeters) \\n', fontsize='x-large')\n",
    "        elif i == 4:\n",
    "            ax00 = fig.add_subplot(gs0[2, 0])\n",
    "            ax00.set_title('\\n Distance (kilometers) conservation PAs \\n', fontsize='x-large')\n",
    "            arr = (arr*231.91560544825498)/1000\n",
    "        elif i == 5:\n",
    "            ax00 = fig.add_subplot(gs0[2, 1])\n",
    "            ax00.set_title('\\n Distance (kilometers) exploitation PAs \\n', fontsize='x-large')\n",
    "            arr = (arr*231.91560544825498)/1000\n",
    "            \n",
    "        format_bar = \"%.0f\"\n",
    "        \n",
    "#     im = ax00.imshow(np.log10(arr+0.000001), cmap=magma_cmap, interpolation='none', extent=aoi_viz.total_bounds[[0,2,1,3]], norm=mpl.colors.Normalize(vmin=np.nanmin(np.log10(arr)),vmax=np.nanmax(np.log10(arr))))   \n",
    "    im = ax00.imshow(arr, cmap=magma_cmap, interpolation='none', extent=aoi_viz.total_bounds[[0,2,1,3]], norm=mpl.colors.Normalize(vmin=np.nanmin(arr),vmax=np.nanmax(arr)))   \n",
    "#     aoi_viz.plot(edgecolor='gray', linewidth=1, facecolor='None', ax=ax00, zorder=3)\n",
    "\n",
    "    v = np.linspace(np.nanmin(arr), np.nanmax(arr), 5, endpoint=True)\n",
    "\n",
    "    ax00.axis('off')\n",
    "    cb = plt.colorbar(im, orientation='horizontal', ticks=v, format=format_bar)\n",
    "\n",
    "plt.show()\n",
    "\n",
    "# fig.savefig(os.path.join(outdir,'aux_data.png'), bbox_inches='tight',pad_inches = 0, dpi=150)\n",
    "# plt.close()"
   ]
  }
 ],
 "metadata": {
  "kernelspec": {
   "display_name": "Python [conda env:geothesis] *",
   "language": "python",
   "name": "conda-env-geothesis-py"
  },
  "language_info": {
   "codemirror_mode": {
    "name": "ipython",
    "version": 3
   },
   "file_extension": ".py",
   "mimetype": "text/x-python",
   "name": "python",
   "nbconvert_exporter": "python",
   "pygments_lexer": "ipython3",
   "version": "3.6.5"
  }
 },
 "nbformat": 4,
 "nbformat_minor": 2
}
