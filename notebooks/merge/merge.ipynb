{
 "cells": [
  {
   "cell_type": "code",
   "execution_count": 1,
   "metadata": {},
   "outputs": [],
   "source": [
    "import rasterio \n",
    "import rasterio.plot\n",
    "\n",
    "from osgeo import gdal\n",
    "\n",
    "import os\n",
    "import glob\n",
    "import re\n",
    "vrt_options = gdal.BuildVRTOptions(resampleAlg=gdal.GRA_NearestNeighbour, addAlpha=True)"
   ]
  },
  {
   "cell_type": "code",
   "execution_count": 2,
   "metadata": {},
   "outputs": [
    {
     "data": {
      "image/png": "[encoded data removed]",
      "text/plain": [
       "<Figure size 432x288 with 1 Axes>"
      ]
     },
     "metadata": {
      "needs_background": "light"
     },
     "output_type": "display_data"
    }
   ],
   "source": [
    "outdir = r'E:\\acocac\\research\\AMZ\\eval\\pred\\4_local\\ep15\\convgru\\convgru128_010203_adam_fold0_MCD12Q1v6stable01to15_LCProp2_major_84993\\2001'\n",
    "\n",
    "fileNames = glob.glob(os.path.join(outdir,'prediction','*.tif'))\n",
    "\n",
    "#sort dataframe by numeric format\n",
    "fileNames.sort(key=lambda f: int(re.sub('\\D', '', f)))\n",
    "\n",
    "test_vrt = gdal.BuildVRT(os.path.join(os.dirname(outdir,'2001.vrt'), fileNames, options=vrt_options)\n",
    "\n",
    "test_vrt = None\n",
    "\n",
    "raster_vrt = rasterio.open(os.path.join(outdir,'2001.vrt'))\n",
    "\n",
    "rasterio.plot.show(raster_vrt)\n",
    "\n",
    "raster_vrt.close()"
   ]
  },
  {
   "cell_type": "code",
   "execution_count": 30,
   "metadata": {},
   "outputs": [
    {
     "ename": "SyntaxError",
     "evalue": "invalid syntax (<ipython-input-30-acc2a0d96164>, line 1)",
     "output_type": "error",
     "traceback": [
      "\u001b[1;36m  File \u001b[1;32m\"<ipython-input-30-acc2a0d96164>\"\u001b[1;36m, line \u001b[1;32m1\u001b[0m\n\u001b[1;33m    val mosaic = gdal.Warp(os.path.join(outdir,'test.tif'), raster_vrt, options=WarpOptions(gdal.ParseCommandLine(\"-srcnodata 0 -dstnodata -1 -overwrite -wm 3000 -co COMPRESS=LZW -s_srs EPSG:4326 -wo NUM_THREADS=val/ALL_CPUS\")))\u001b[0m\n\u001b[1;37m             ^\u001b[0m\n\u001b[1;31mSyntaxError\u001b[0m\u001b[1;31m:\u001b[0m invalid syntax\n"
     ]
    }
   ],
   "source": [
    "val mosaic = gdal.Warp(os.path.join(outdir,'test.tif'), raster_vrt, options=WarpOptions(gdal.ParseCommandLine(\"-srcnodata 0 -dstnodata -1 -overwrite -wm 3000 -co COMPRESS=LZW -s_srs EPSG:4326 -wo NUM_THREADS=val/ALL_CPUS\")))"
   ]
  },
  {
   "cell_type": "code",
   "execution_count": 49,
   "metadata": {},
   "outputs": [],
   "source": [
    "def export_raw(fileNames, outdir):\n",
    "    cl_string = \"-of GTiff -co COMPRESS=LZW -overwrite \\\n",
    "    -multi -wo NUM_THREADS=ALL_CPUS -s_srs EPSG:4326 -srcnodata 0 -dstnodata -9999\"\n",
    "\n",
    "    warp_options = gdal.WarpOptions(gdal.ParseCommandLine(cl_string))\n",
    "\n",
    "    vrt_options = gdal.BuildVRTOptions(separate=False)\n",
    "    vrt_output=os.path.join(outdir,'test.vrt')\n",
    "    gdal.BuildVRT(vrt_output, fileNames, options=vrt_options)\n",
    "    # warp_options = \"\"\n",
    "    output_tiff = vrt_output.replace(\".vrt\", \".tif\")\n",
    "\n",
    "    if not os.path.exists(output_tiff):\n",
    "        gdal.Warp(output_tiff, vrt_output, options=warp_options)"
   ]
  },
  {
   "cell_type": "code",
   "execution_count": 50,
   "metadata": {},
   "outputs": [],
   "source": [
    "export_raw(fileNames, outdir)"
   ]
  },
  {
   "cell_type": "code",
   "execution_count": 24,
   "metadata": {},
   "outputs": [
    {
     "ename": "SystemError",
     "evalue": "<built-in function wrapper_GDALWarpDestName> returned NULL without setting an error",
     "output_type": "error",
     "traceback": [
      "\u001b[1;31m---------------------------------------------------------------------------\u001b[0m",
      "\u001b[1;31mSystemError\u001b[0m                               Traceback (most recent call last)",
      "\u001b[1;32m<ipython-input-24-d539251747ef>\u001b[0m in \u001b[0;36m<module>\u001b[1;34m\u001b[0m\n\u001b[0;32m      1\u001b[0m ds = gdal.Warp(os.path.join(outdir,'test.tif'), raster_vrt, dstSRS='EPSG:4326',\n\u001b[1;32m----> 2\u001b[1;33m                outputType=gdal.GDT_Int16)\n\u001b[0m\u001b[0;32m      3\u001b[0m \u001b[0mds\u001b[0m \u001b[1;33m=\u001b[0m \u001b[1;32mNone\u001b[0m\u001b[1;33m\u001b[0m\u001b[0m\n",
      "\u001b[1;32m~\\AppData\\Local\\Continuum\\anaconda2\\envs\\geothesis\\lib\\site-packages\\osgeo\\gdal.py\u001b[0m in \u001b[0;36mWarp\u001b[1;34m(destNameOrDestDS, srcDSOrSrcDSTab, **kwargs)\u001b[0m\n\u001b[0;32m    623\u001b[0m \u001b[1;33m\u001b[0m\u001b[0m\n\u001b[0;32m    624\u001b[0m     \u001b[1;32mif\u001b[0m \u001b[0m_is_str_or_unicode\u001b[0m\u001b[1;33m(\u001b[0m\u001b[0mdestNameOrDestDS\u001b[0m\u001b[1;33m)\u001b[0m\u001b[1;33m:\u001b[0m\u001b[1;33m\u001b[0m\u001b[0m\n\u001b[1;32m--> 625\u001b[1;33m         \u001b[1;32mreturn\u001b[0m \u001b[0mwrapper_GDALWarpDestName\u001b[0m\u001b[1;33m(\u001b[0m\u001b[0mdestNameOrDestDS\u001b[0m\u001b[1;33m,\u001b[0m \u001b[0msrcDSTab\u001b[0m\u001b[1;33m,\u001b[0m \u001b[0mopts\u001b[0m\u001b[1;33m,\u001b[0m \u001b[0mcallback\u001b[0m\u001b[1;33m,\u001b[0m \u001b[0mcallback_data\u001b[0m\u001b[1;33m)\u001b[0m\u001b[1;33m\u001b[0m\u001b[0m\n\u001b[0m\u001b[0;32m    626\u001b[0m     \u001b[1;32melse\u001b[0m\u001b[1;33m:\u001b[0m\u001b[1;33m\u001b[0m\u001b[0m\n\u001b[0;32m    627\u001b[0m         \u001b[1;32mreturn\u001b[0m \u001b[0mwrapper_GDALWarpDestDS\u001b[0m\u001b[1;33m(\u001b[0m\u001b[0mdestNameOrDestDS\u001b[0m\u001b[1;33m,\u001b[0m \u001b[0msrcDSTab\u001b[0m\u001b[1;33m,\u001b[0m \u001b[0mopts\u001b[0m\u001b[1;33m,\u001b[0m \u001b[0mcallback\u001b[0m\u001b[1;33m,\u001b[0m \u001b[0mcallback_data\u001b[0m\u001b[1;33m)\u001b[0m\u001b[1;33m\u001b[0m\u001b[0m\n",
      "\u001b[1;32m~\\AppData\\Local\\Continuum\\anaconda2\\envs\\geothesis\\lib\\site-packages\\osgeo\\gdal.py\u001b[0m in \u001b[0;36mwrapper_GDALWarpDestName\u001b[1;34m(*args)\u001b[0m\n\u001b[0;32m   3408\u001b[0m \u001b[1;32mdef\u001b[0m \u001b[0mwrapper_GDALWarpDestName\u001b[0m\u001b[1;33m(\u001b[0m\u001b[1;33m*\u001b[0m\u001b[0margs\u001b[0m\u001b[1;33m)\u001b[0m\u001b[1;33m:\u001b[0m\u001b[1;33m\u001b[0m\u001b[0m\n\u001b[0;32m   3409\u001b[0m     \u001b[1;34m\"\"\"wrapper_GDALWarpDestName(char const * dest, int object_list_count, GDALWarpAppOptions warpAppOptions, GDALProgressFunc callback=0, void * callback_data=None) -> Dataset\"\"\"\u001b[0m\u001b[1;33m\u001b[0m\u001b[0m\n\u001b[1;32m-> 3410\u001b[1;33m     \u001b[1;32mreturn\u001b[0m \u001b[0m_gdal\u001b[0m\u001b[1;33m.\u001b[0m\u001b[0mwrapper_GDALWarpDestName\u001b[0m\u001b[1;33m(\u001b[0m\u001b[1;33m*\u001b[0m\u001b[0margs\u001b[0m\u001b[1;33m)\u001b[0m\u001b[1;33m\u001b[0m\u001b[0m\n\u001b[0m\u001b[0;32m   3411\u001b[0m \u001b[1;32mclass\u001b[0m \u001b[0mGDALVectorTranslateOptions\u001b[0m\u001b[1;33m(\u001b[0m\u001b[0m_object\u001b[0m\u001b[1;33m)\u001b[0m\u001b[1;33m:\u001b[0m\u001b[1;33m\u001b[0m\u001b[0m\n\u001b[0;32m   3412\u001b[0m     \u001b[1;34m\"\"\"Proxy of C++ GDALVectorTranslateOptions class.\"\"\"\u001b[0m\u001b[1;33m\u001b[0m\u001b[0m\n",
      "\u001b[1;31mSystemError\u001b[0m: <built-in function wrapper_GDALWarpDestName> returned NULL without setting an error"
     ]
    }
   ],
   "source": [
    "ds = gdal.Warp(os.path.join(outdir,'test.tif'), raster_vrt, dstSRS='EPSG:4326',\n",
    "               outputType=gdal.GDT_Int16)\n",
    "ds = None"
   ]
  },
  {
   "cell_type": "code",
   "execution_count": 21,
   "metadata": {},
   "outputs": [],
   "source": [
    "# kwargs = {'format': 'GTiff', 'geoloc': True}\n",
    "# ds = gdal.Warp(os.path.join(outdir,'test.tif'), raster_vrt, **kwargs)\n",
    "# del ds"
   ]
  },
  {
   "cell_type": "code",
   "execution_count": 22,
   "metadata": {},
   "outputs": [
    {
     "data": {
      "text/plain": [
       "(12672, 16128)"
      ]
     },
     "execution_count": 22,
     "metadata": {},
     "output_type": "execute_result"
    }
   ],
   "source": [
    "raster_vrt.shape"
   ]
  },
  {
   "cell_type": "code",
   "execution_count": 23,
   "metadata": {},
   "outputs": [],
   "source": [
    "# Importar bibliotecas\n",
    "\n",
    "# from rasterstats import zonal_stats\n",
    "import rasterio\n",
    "from rasterio import plot\n",
    "from rasterio.plot import show\n",
    "import os\n",
    "import matplotlib.pyplot as plt\n",
    "%matplotlib inline\n",
    "\n",
    "import numpy as np\n",
    "import numpy.ma as ma\n",
    "from osgeo import gdal\n",
    "import gdal\n",
    "# from gdalconst import *\n",
    "import glob\n",
    "import re\n",
    "import geopandas as gpd\n",
    "from rasterio.mask import mask\n",
    "import fiona\n",
    "from rasterio.features import sieve"
   ]
  },
  {
   "cell_type": "code",
   "execution_count": null,
   "metadata": {},
   "outputs": [],
   "source": []
  }
 ],
 "metadata": {
  "kernelspec": {
   "display_name": "Python [conda env:geothesis]",
   "language": "python",
   "name": "conda-env-geothesis-py"
  },
  "language_info": {
   "codemirror_mode": {
    "name": "ipython",
    "version": 3
   },
   "file_extension": ".py",
   "mimetype": "text/x-python",
   "name": "python",
   "nbconvert_exporter": "python",
   "pygments_lexer": "ipython3",
   "version": "3.6.5"
  }
 },
 "nbformat": 4,
 "nbformat_minor": 2
}
